{
 "cells": [
  {
   "cell_type": "code",
   "execution_count": 19,
   "metadata": {
    "collapsed": true
   },
   "outputs": [],
   "source": [
    "import requests\n",
    "import json\n",
    "\n",
    "BASE_URL = \"http://musicbrainz.org/ws/2/\"\n",
    "ARTIST_URL = BASE_URL + \"artist/\" \n",
    "\n",
    "query_type = {\"simple\": {},\n",
    "              \"atr\": {\"inc\": \"aliases+tags+ratings\"},\n",
    "              \"aliases\": {\"inc\": \"aliases\"},\n",
    "              \"releases\": {\"inc\": \"releases\"}}"
   ]
  },
  {
   "cell_type": "code",
   "execution_count": 32,
   "metadata": {},
   "outputs": [],
   "source": [
    "def query_site(url, params, uid=\"\", fmt=\"json\"):\n",
    "    # This is the main function for making queries to the musicbrainz API.\n",
    "    # A json document should be returned by the query.\n",
    "    params[\"fmt\"] = fmt\n",
    "    \n",
    "    print params\n",
    "    \n",
    "    r = requests.get(url + uid, params=params)\n",
    "    print \"requesting\", r.url\n",
    "    \n",
    "    if r.status_code == requests.codes.ok:\n",
    "        return r.json()\n",
    "    else:\n",
    "        r.raise_for_status()\n",
    "    \n",
    "def query_by_name(url, params, name):\n",
    "    # This adds an artist name to the query parameters before making\n",
    "    # an API call to the function above.\n",
    "    params[\"query\"] = \"artist:\" + name\n",
    "    return query_site(url, params)\n",
    "\n",
    "def pretty_print(data, indent=4):\n",
    "    # After we get our output, we can format it to be more readable\n",
    "    # by using this function.\n",
    "    if type(data) == dict:\n",
    "        print json.dumps(data, indent=indent, sort_keys=True)\n",
    "    else:\n",
    "        print data"
   ]
  },
  {
   "cell_type": "code",
   "execution_count": 44,
   "metadata": {},
   "outputs": [
    {
     "name": "stdout",
     "output_type": "stream",
     "text": [
      "{'query': 'artist:First Aid Kit', 'fmt': 'json'}\n",
      "requesting http://musicbrainz.org/ws/2/artist/?query=artist%3AFirst+Aid+Kit&fmt=json\n",
      "2\n"
     ]
    }
   ],
   "source": [
    "results = query_by_name(ARTIST_URL, query_type['simple'], \"First Aid Kit\")\n",
    "artists = results[\"artists\"]\n",
    "\n",
    "count = 0\n",
    "for artist in artists:\n",
    "    if artist['name'] == 'First Aid Kit':\n",
    "        count += 1\n",
    "        \n",
    "print count"
   ]
  },
  {
   "cell_type": "code",
   "execution_count": 54,
   "metadata": {},
   "outputs": [
    {
     "name": "stdout",
     "output_type": "stream",
     "text": [
      "{'query': 'artist:Queen', 'fmt': 'json'}\n",
      "requesting http://musicbrainz.org/ws/2/artist/?query=artist%3AQueen&fmt=json\n",
      "{u'sort-name': u'London', u'id': u'f03d09b3-39dc-4083-afd6-159e3f0d462f', u'name': u'London'}\n"
     ]
    }
   ],
   "source": [
    "results = query_by_name(ARTIST_URL, query_type['simple'], 'Queen')\n",
    "\n",
    "artists = results['artists']\n",
    "\n",
    "for artist in artists:\n",
    "    if 'begin-area' in artist and artist['name'] == 'Queen':\n",
    "        print artist['begin-area']"
   ]
  },
  {
   "cell_type": "code",
   "execution_count": 67,
   "metadata": {},
   "outputs": [
    {
     "name": "stdout",
     "output_type": "stream",
     "text": [
      "{'query': 'artist:Beatles', 'fmt': 'json'}\n",
      "requesting http://musicbrainz.org/ws/2/artist/?query=artist%3ABeatles&fmt=json\n",
      "Los Beatles\n"
     ]
    }
   ],
   "source": [
    "results = query_by_name(ARTIST_URL, query_type['simple'], 'Beatles')\n",
    "\n",
    "artists = results['artists']\n",
    "\n",
    "for artist in artists:\n",
    "    if artist['name'] == 'The Beatles':\n",
    "        #print artist['name'], artist['aliases']\n",
    "        for alias in artist['aliases']:\n",
    "            if alias['locale'] == 'es':\n",
    "                print alias['name']\n",
    "            #print alias['locale'], alias['name']"
   ]
  },
  {
   "cell_type": "code",
   "execution_count": 93,
   "metadata": {},
   "outputs": [
    {
     "name": "stdout",
     "output_type": "stream",
     "text": [
      "{'query': 'artist:Nirvana', 'fmt': 'json'}\n",
      "requesting http://musicbrainz.org/ws/2/artist/?query=artist%3ANirvana&fmt=json\n",
      "{u'name': u'Nirvana', u'area': {u'sort-name': u'Finland', u'id': u'6a264f94-6ff1-30b1-9a81-41f7bfabd616', u'name': u'Finland'}, u'country': u'FI', u'disambiguation': u\"Early 1980's Finnish punk band\", u'tags': [{u'count': 1, u'name': u'punk'}, {u'count': 1, u'name': u'finland'}], u'life-span': {u'ended': None}, u'sort-name': u'Nirvana', u'score': u'100', u'type': u'Group', u'id': u'85af0709-95db-4fbc-801a-120e9f4766d0'}\n",
      "{u'name': u'Nirvana', u'disambiguation': u'founded in 1987 by a Michael Jackson double/imitator', u'life-span': {u'ended': None, u'begin': u'1987'}, u'sort-name': u'Nirvana', u'score': u'100', u'id': u'3aa878c0-224b-41e5-abd1-63be359d2bca'}\n",
      "{u'name': u'Nirvana', u'disambiguation': u'French band from Martigues, activ during the 70s.', u'life-span': {u'ended': None}, u'sort-name': u'Nirvana', u'score': u'100', u'id': u'c49d69dc-e008-47cf-b5ff-160fafb1fe1f'}\n",
      "{u'name': u'Nirvana', u'area': {u'sort-name': u'United Kingdom', u'id': u'8a754a16-0027-3a29-b6d7-2b40ea0481ed', u'name': u'United Kingdom'}, u'country': u'GB', u'disambiguation': u'60s band from the UK', u'tags': [{u'count': 1, u'name': u'rock'}, {u'count': 1, u'name': u'pop'}, {u'count': 1, u'name': u'progressive rock'}, {u'count': 1, u'name': u'orchestral'}, {u'count': 1, u'name': u'british'}, {u'count': 1, u'name': u'power pop'}, {u'count': 1, u'name': u'psychedelic rock'}, {u'count': 1, u'name': u'soft rock'}, {u'count': 1, u'name': u'symphonic rock'}, {u'count': 1, u'name': u'english'}], u'life-span': {u'ended': None, u'begin': u'1967'}, u'sort-name': u'Nirvana', u'score': u'100', u'begin-area': {u'sort-name': u'London', u'id': u'f03d09b3-39dc-4083-afd6-159e3f0d462f', u'name': u'London'}, u'type': u'Group', u'id': u'9282c8b4-ca0b-4c6b-b7e3-4f7762dfc4d6'}\n",
      "{u'name': u'Nirvana', u'area': {u'sort-name': u'United States', u'id': u'489ce91b-6658-3307-9877-795b68554c98', u'name': u'United States'}, u'country': u'US', u'disambiguation': u'90s US grunge band', u'tags': [{u'count': 9, u'name': u'rock'}, {u'count': 4, u'name': u'alternative rock'}, {u'count': 1, u'name': u'90s'}, {u'count': 1, u'name': u'punk'}, {u'count': 5, u'name': u'american'}, {u'count': 1, u'name': u'seattle'}, {u'count': 14, u'name': u'grunge'}, {u'count': 0, u'name': u'band'}, {u'count': 1, u'name': u'usa'}, {u'count': 0, u'name': u'alternative'}, {u'count': 0, u'name': u'am\\xe9ricain'}, {u'count': 0, u'name': u'legendary'}, {u'count': 1, u'name': u'acoustic rock'}, {u'count': 1, u'name': u'noise rock'}, {u'count': 0, u'name': u'90'}, {u'count': 0, u'name': u'northwest'}, {u'count': 0, u'name': u'rock and indie'}, {u'count': 0, u'name': u'united states'}, {u'count': 0, u'name': u'nirvana'}, {u'count': 0, u'name': u'kurt cobain'}], u'life-span': {u'ended': True, u'begin': u'1988-01', u'end': u'1994-04-05'}, u'sort-name': u'Nirvana', u'score': u'100', u'begin-area': {u'sort-name': u'Aberdeen', u'id': u'a640b45c-c173-49b1-8030-973603e895b5', u'name': u'Aberdeen'}, u'type': u'Group', u'id': u'5b11f4ce-a62d-471e-81fc-a69a8278c7da', u'aliases': [{u'name': u'Nirvana US', u'locale': None, u'end-date': None, u'primary': None, u'sort-name': u'Nirvana US', u'type': None, u'begin-date': None}]}\n"
     ]
    }
   ],
   "source": [
    "results = query_by_name(ARTIST_URL, query_type['simple'], 'Nirvana')\n",
    "artists = results['artists']\n",
    "\n",
    "for artist in artists:\n",
    "    if artist['name'] == 'Nirvana':# and artist['sort-name'] == 'United States':\n",
    "        #print artist['disambiguation']\n",
    "        print artist"
   ]
  },
  {
   "cell_type": "code",
   "execution_count": 4,
   "metadata": {},
   "outputs": [
    {
     "name": "stdout",
     "output_type": "stream",
     "text": [
      "{'fmt': 'json'}\n"
     ]
    }
   ],
   "source": [
    "def test(params, fmt):\n",
    "    params['fmt'] = fmt\n",
    "    print params\n",
    "    \n",
    "test(query_type['simple'], \"json\")"
   ]
  }
 ],
 "metadata": {
  "kernelspec": {
   "display_name": "Python 2",
   "language": "python",
   "name": "python2"
  },
  "language_info": {
   "codemirror_mode": {
    "name": "ipython",
    "version": 2
   },
   "file_extension": ".py",
   "mimetype": "text/x-python",
   "name": "python",
   "nbconvert_exporter": "python",
   "pygments_lexer": "ipython2",
   "version": "2.7.13"
  }
 },
 "nbformat": 4,
 "nbformat_minor": 2
}
