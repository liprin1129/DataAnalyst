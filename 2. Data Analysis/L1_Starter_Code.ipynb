{
 "cells": [
  {
   "cell_type": "markdown",
   "metadata": {},
   "source": [
    "Before we get started, a couple of reminders to keep in mind when using iPython notebooks:\n",
    "\n",
    "- Remember that you can see from the left side of a code cell when it was last run if there is a number within the brackets.\n",
    "- When you start a new notebook session, make sure you run all of the cells up to the point where you last left off. Even if the output is still visible from when you ran the cells in your previous session, the kernel starts in a fresh state so you'll need to reload the data, etc. on a new session.\n",
    "- The previous point is useful to keep in mind if your answers do not match what is expected in the lesson's quizzes. Try reloading the data and run all of the processing steps one by one in order to make sure that you are working with the same variables and data that are at each quiz stage.\n",
    "\n",
    "\n",
    "## Load Data from CSVs"
   ]
  },
  {
   "cell_type": "code",
   "execution_count": 1,
   "metadata": {
    "collapsed": true
   },
   "outputs": [],
   "source": [
    "import unicodecsv\n",
    "\n",
    "## Longer version of code (replaced with shorter, equivalent version below)\n",
    "\n",
    "# enrollments = []\n",
    "# f = open('enrollments.csv', 'rb')\n",
    "# reader = unicodecsv.DictReader(f)\n",
    "# for row in reader:\n",
    "#     enrollments.append(row)\n",
    "# f.close()\n",
    "\n",
    "with open('enrollments.csv', 'rb') as f:\n",
    "    reader = unicodecsv.DictReader(f)\n",
    "    enrollments = list(reader)"
   ]
  },
  {
   "cell_type": "code",
   "execution_count": 2,
   "metadata": {
    "collapsed": false
   },
   "outputs": [
    {
     "name": "stdout",
     "output_type": "stream",
     "text": [
      "{'is_canceled': 'True', 'is_udacity': 'True', 'status': 'canceled', 'account_key': '448', 'join_date': '2014-11-10', 'days_to_cancel': '65', 'cancel_date': '2015-01-14'}\n",
      "{'num_courses_visited': '1.0', 'projects_completed': '0.0', 'utc_date': '2015-01-09', 'total_minutes_visited': '11.6793745', 'lessons_completed': '0.0', 'acct': '0'}\n",
      "{'assigned_rating': 'UNGRADED', 'creation_date': '2015-01-14', 'processing_state': 'EVALUATED', 'account_key': '256', 'completion_date': '2015-01-16', 'lesson_key': '3176718735'}\n"
     ]
    }
   ],
   "source": [
    "#####################################\n",
    "#                 1                 #\n",
    "#####################################\n",
    "\n",
    "## Read in the data from daily_engagement.csv and project_submissions.csv \n",
    "## and store the results in the below variables.\n",
    "## Then look at the first row of each table.\n",
    "\n",
    "engagement_filename = 'daily_engagement.csv'\n",
    "submissions_filename = 'project_submissions.csv'\n",
    "\n",
    "with open(engagement_filename, 'rb') as file:\n",
    "    reader = unicodecsv.DictReader(file)\n",
    "    daily_engagement = list(reader) # Replace this with your code\n",
    "\n",
    "with open(submissions_filename, 'rb') as file:\n",
    "    reader = unicodecsv.DictReader(file)\n",
    "    project_submissions = list(reader)  # Replace this with your code\n",
    "    \n",
    "print(enrollments[0])\n",
    "print(daily_engagement[0])\n",
    "print(project_submissions[0])"
   ]
  },
  {
   "cell_type": "code",
   "execution_count": 3,
   "metadata": {
    "collapsed": false
   },
   "outputs": [
    {
     "name": "stdout",
     "output_type": "stream",
     "text": [
      "{'is_canceled': 'True', 'is_udacity': 'True', 'status': 'canceled', 'account_key': '448', 'join_date': '2014-11-10', 'days_to_cancel': '65', 'cancel_date': '2015-01-14'}\n",
      "{'num_courses_visited': '1.0', 'projects_completed': '0.0', 'utc_date': '2015-01-09', 'total_minutes_visited': '11.6793745', 'lessons_completed': '0.0', 'acct': '0'}\n",
      "{'assigned_rating': 'UNGRADED', 'creation_date': '2015-01-14', 'processing_state': 'EVALUATED', 'account_key': '256', 'completion_date': '2015-01-16', 'lesson_key': '3176718735'}\n"
     ]
    }
   ],
   "source": [
    "## Make the above code into a function\n",
    "\n",
    "import unicodecsv\n",
    "\n",
    "def read_csv(filename):\n",
    "    with open(filename, 'rb') as file:\n",
    "        reader = unicodecsv.DictReader(file)\n",
    "        return list(reader)\n",
    "    \n",
    "enrollments = read_csv('enrollments.csv')\n",
    "daily_engagement = read_csv('daily_engagement.csv')\n",
    "project_submissions = read_csv('project_submissions.csv')\n",
    "\n",
    "print(enrollments[0])\n",
    "print(daily_engagement[0])\n",
    "print(project_submissions[0])"
   ]
  },
  {
   "cell_type": "markdown",
   "metadata": {},
   "source": [
    "## Fixing Data Types"
   ]
  },
  {
   "cell_type": "code",
   "execution_count": 4,
   "metadata": {
    "collapsed": false
   },
   "outputs": [
    {
     "data": {
      "text/plain": [
       "{'account_key': '448',\n",
       " 'cancel_date': datetime.datetime(2015, 1, 14, 0, 0),\n",
       " 'days_to_cancel': 65,\n",
       " 'is_canceled': True,\n",
       " 'is_udacity': True,\n",
       " 'join_date': datetime.datetime(2014, 11, 10, 0, 0),\n",
       " 'status': 'canceled'}"
      ]
     },
     "execution_count": 4,
     "metadata": {},
     "output_type": "execute_result"
    }
   ],
   "source": [
    "from datetime import datetime as dt\n",
    "\n",
    "# Takes a date as a string, and returns a Python datetime object. \n",
    "# If there is no date given, returns None\n",
    "def parse_date(date):\n",
    "    if date == '':\n",
    "        return None\n",
    "    else:\n",
    "        return dt.strptime(date, '%Y-%m-%d')\n",
    "    \n",
    "# Takes a string which is either an empty string or represents an integer,\n",
    "# and returns an int or None.\n",
    "def parse_maybe_int(i):\n",
    "    if i == '':\n",
    "        return None\n",
    "    else:\n",
    "        return int(i)\n",
    "\n",
    "# Clean up the data types in the enrollments table\n",
    "for enrollment in enrollments:\n",
    "    enrollment['cancel_date'] = parse_date(enrollment['cancel_date'])\n",
    "    enrollment['days_to_cancel'] = parse_maybe_int(enrollment['days_to_cancel'])\n",
    "    enrollment['is_canceled'] = enrollment['is_canceled'] == 'True'\n",
    "    enrollment['is_udacity'] = enrollment['is_udacity'] == 'True'\n",
    "    enrollment['join_date'] = parse_date(enrollment['join_date'])\n",
    "    \n",
    "enrollments[0]"
   ]
  },
  {
   "cell_type": "code",
   "execution_count": 5,
   "metadata": {
    "collapsed": false
   },
   "outputs": [
    {
     "data": {
      "text/plain": [
       "{'acct': '0',\n",
       " 'lessons_completed': 0,\n",
       " 'num_courses_visited': 1,\n",
       " 'projects_completed': 0,\n",
       " 'total_minutes_visited': 11.6793745,\n",
       " 'utc_date': datetime.datetime(2015, 1, 9, 0, 0)}"
      ]
     },
     "execution_count": 5,
     "metadata": {},
     "output_type": "execute_result"
    }
   ],
   "source": [
    "# Clean up the data types in the engagement table\n",
    "for engagement_record in daily_engagement:\n",
    "    engagement_record['lessons_completed'] = int(float(engagement_record['lessons_completed']))\n",
    "    engagement_record['num_courses_visited'] = int(float(engagement_record['num_courses_visited']))\n",
    "    engagement_record['projects_completed'] = int(float(engagement_record['projects_completed']))\n",
    "    engagement_record['total_minutes_visited'] = float(engagement_record['total_minutes_visited'])\n",
    "    engagement_record['utc_date'] = parse_date(engagement_record['utc_date'])\n",
    "    \n",
    "daily_engagement[0]"
   ]
  },
  {
   "cell_type": "code",
   "execution_count": 6,
   "metadata": {
    "collapsed": false
   },
   "outputs": [
    {
     "data": {
      "text/plain": [
       "{'account_key': '256',\n",
       " 'assigned_rating': 'UNGRADED',\n",
       " 'completion_date': datetime.datetime(2015, 1, 16, 0, 0),\n",
       " 'creation_date': datetime.datetime(2015, 1, 14, 0, 0),\n",
       " 'lesson_key': '3176718735',\n",
       " 'processing_state': 'EVALUATED'}"
      ]
     },
     "execution_count": 6,
     "metadata": {},
     "output_type": "execute_result"
    }
   ],
   "source": [
    "# Clean up the data types in the submissions table\n",
    "for submission in project_submissions:\n",
    "    submission['completion_date'] = parse_date(submission['completion_date'])\n",
    "    submission['creation_date'] = parse_date(submission['creation_date'])\n",
    "\n",
    "project_submissions[0]"
   ]
  },
  {
   "cell_type": "markdown",
   "metadata": {},
   "source": [
    "Note when running the above cells that we are actively changing the contents of our data variables. If you try to run these cells multiple times in the same session, an error will occur.\n",
    "\n",
    "## Investigating the Data"
   ]
  },
  {
   "cell_type": "code",
   "execution_count": 7,
   "metadata": {
    "collapsed": false
   },
   "outputs": [
    {
     "name": "stdout",
     "output_type": "stream",
     "text": [
      "1640 -> 1302\n",
      "136240 -> 1237\n",
      "3642 -> 743\n"
     ]
    }
   ],
   "source": [
    "#####################################\n",
    "#                 2                 #\n",
    "#####################################\n",
    "\n",
    "## Find the total number of rows and the number of unique students (account keys)\n",
    "## in each table.\n",
    "\n",
    "# enrollments\n",
    "enrollment_num_rows = len(enrollments)\n",
    "\n",
    "enrollment_num_unique_students = set()\n",
    "for enrollment in enrollments:\n",
    "    enrollment_num_unique_students.add(enrollment['account_key'])\n",
    "    \n",
    "print(enrollment_num_rows, '->', len(enrollment_num_unique_students))\n",
    "\n",
    "# daily_engagement\n",
    "engagement_num_rows = len(daily_engagement)\n",
    "\n",
    "engagement_num_unique_students = set()\n",
    "for engagement_record in daily_engagement:\n",
    "    engagement_num_unique_students.add(engagement_record['acct'])\n",
    "\n",
    "print(engagement_num_rows, '->', len(engagement_num_unique_students))\n",
    "\n",
    "# project_submissions\n",
    "submission_num_rows = len(project_submissions)\n",
    "\n",
    "submission_num_unique_students = set()\n",
    "for submission in project_submissions:\n",
    "    submission_num_unique_students.add(submission['account_key'])\n",
    "\n",
    "print(submission_num_rows, '->', len(submission_num_unique_students))"
   ]
  },
  {
   "cell_type": "markdown",
   "metadata": {},
   "source": [
    "## Problems in the Data"
   ]
  },
  {
   "cell_type": "code",
   "execution_count": 8,
   "metadata": {
    "collapsed": false
   },
   "outputs": [],
   "source": [
    "#####################################\n",
    "#                 3                 #\n",
    "#####################################\n",
    "\n",
    "## Rename the \"acct\" column in the daily_engagement table to \"account_key\".\n",
    "for engagement_record in daily_engagement:\n",
    "    engagement_record['account_key']=engagement_record['acct']\n",
    "    del(engagement_record['acct'])"
   ]
  },
  {
   "cell_type": "markdown",
   "metadata": {},
   "source": [
    "## Missing Engagement Records"
   ]
  },
  {
   "cell_type": "code",
   "execution_count": 9,
   "metadata": {
    "collapsed": false
   },
   "outputs": [
    {
     "name": "stdout",
     "output_type": "stream",
     "text": [
      "{'is_canceled': True, 'is_udacity': False, 'status': 'canceled', 'account_key': '1219', 'join_date': datetime.datetime(2014, 11, 12, 0, 0), 'days_to_cancel': 0, 'cancel_date': datetime.datetime(2014, 11, 12, 0, 0)}\n"
     ]
    }
   ],
   "source": [
    "#####################################\n",
    "#                 4                 #\n",
    "#####################################\n",
    "\n",
    "## Find any one student enrollments where the student is missing from the daily engagement table.\n",
    "## Output that enrollment.\n",
    "for enrollment in enrollments:\n",
    "    if enrollment['account_key'] not in engagement_num_unique_students:\n",
    "        print(enrollment)\n",
    "        break"
   ]
  },
  {
   "cell_type": "markdown",
   "metadata": {},
   "source": [
    "## Checking for More Problem Records"
   ]
  },
  {
   "cell_type": "code",
   "execution_count": 10,
   "metadata": {
    "collapsed": false
   },
   "outputs": [
    {
     "name": "stdout",
     "output_type": "stream",
     "text": [
      "Problem student: {'1304', '1101'} \n",
      " Num of Problem student: 3\n"
     ]
    }
   ],
   "source": [
    "#####################################\n",
    "#                 5                 #\n",
    "#####################################\n",
    "\n",
    "## Find the number of surprising data points (enrollments missing from\n",
    "## the engagement table) that remain, if any.\n",
    "\n",
    "missing = set()\n",
    "a = 0\n",
    "for enrollment in enrollments:\n",
    "    if enrollment['cancel_date'] != enrollment['join_date'] and enrollment['account_key'] not in engagement_num_unique_students:\n",
    "        missing.add(enrollment['account_key'])\n",
    "        a +=1\n",
    "print(\"Problem student:\", missing, \"\\n\",\"Num of Problem student:\", a)"
   ]
  },
  {
   "cell_type": "markdown",
   "metadata": {},
   "source": [
    "## Tracking Down the Remaining Problems"
   ]
  },
  {
   "cell_type": "code",
   "execution_count": 11,
   "metadata": {
    "collapsed": false
   },
   "outputs": [
    {
     "data": {
      "text/plain": [
       "6"
      ]
     },
     "execution_count": 11,
     "metadata": {},
     "output_type": "execute_result"
    }
   ],
   "source": [
    "# Create a set of the account keys for all Udacity test accounts\n",
    "udacity_test_accounts = set()\n",
    "for enrollment in enrollments:\n",
    "    if enrollment['is_udacity']:\n",
    "        udacity_test_accounts.add(enrollment['account_key'])\n",
    "len(udacity_test_accounts)"
   ]
  },
  {
   "cell_type": "code",
   "execution_count": 12,
   "metadata": {
    "collapsed": false
   },
   "outputs": [],
   "source": [
    "# Given some data with an account_key field, removes any records corresponding to Udacity test accounts\n",
    "def remove_udacity_accounts(data):\n",
    "    non_udacity_data = []\n",
    "    for data_point in data:\n",
    "        if data_point['account_key'] not in udacity_test_accounts:\n",
    "            non_udacity_data.append(data_point)\n",
    "    return non_udacity_data"
   ]
  },
  {
   "cell_type": "code",
   "execution_count": 13,
   "metadata": {
    "collapsed": false
   },
   "outputs": [
    {
     "name": "stdout",
     "output_type": "stream",
     "text": [
      "1622\n",
      "135656\n",
      "3634\n",
      "{'is_canceled': True, 'is_udacity': False, 'status': 'canceled', 'account_key': '700', 'join_date': datetime.datetime(2014, 11, 10, 0, 0), 'days_to_cancel': 6, 'cancel_date': datetime.datetime(2014, 11, 16, 0, 0)}\n",
      "{'num_courses_visited': 1, 'account_key': '0', 'projects_completed': 0, 'utc_date': datetime.datetime(2015, 1, 9, 0, 0), 'total_minutes_visited': 11.6793745, 'lessons_completed': 0}\n",
      "{'assigned_rating': 'UNGRADED', 'creation_date': datetime.datetime(2015, 1, 14, 0, 0), 'processing_state': 'EVALUATED', 'account_key': '256', 'completion_date': datetime.datetime(2015, 1, 16, 0, 0), 'lesson_key': '3176718735'}\n"
     ]
    }
   ],
   "source": [
    "# Remove Udacity test accounts from all three tables\n",
    "non_udacity_enrollments = remove_udacity_accounts(enrollments)\n",
    "non_udacity_engagement = remove_udacity_accounts(daily_engagement)\n",
    "non_udacity_submissions = remove_udacity_accounts(project_submissions)\n",
    "\n",
    "print(len(non_udacity_enrollments))\n",
    "print(len(non_udacity_engagement))\n",
    "print(len(non_udacity_submissions))\n",
    "\n",
    "print(non_udacity_enrollments[0])\n",
    "print(non_udacity_engagement[0])\n",
    "print(non_udacity_submissions[0])"
   ]
  },
  {
   "cell_type": "markdown",
   "metadata": {},
   "source": [
    "## Refining the Question"
   ]
  },
  {
   "cell_type": "code",
   "execution_count": 14,
   "metadata": {
    "collapsed": false
   },
   "outputs": [
    {
     "name": "stdout",
     "output_type": "stream",
     "text": [
      "{'is_canceled': True, 'is_udacity': False, 'status': 'canceled', 'account_key': '700', 'join_date': datetime.datetime(2014, 11, 10, 0, 0), 'days_to_cancel': 6, 'cancel_date': datetime.datetime(2014, 11, 16, 0, 0)}\n",
      "995\n"
     ]
    }
   ],
   "source": [
    "#####################################\n",
    "#                 6                 #\n",
    "#####################################\n",
    "\n",
    "## Create a dictionary named paid_students containing all students who either\n",
    "## haven't canceled yet or who remained enrolled for more than 7 days. The keys\n",
    "## should be account keys, and the values should be the date the student enrolled.\n",
    "print(non_udacity_enrollments[0])\n",
    "paid_students = {}\n",
    "for student in non_udacity_enrollments:\n",
    "    if (not student['is_canceled'] or student['days_to_cancel'] > 7):\n",
    "        \n",
    "        ## Earlier we saw that the same student can enroll multiple times and if that happens, \n",
    "        ## then I'm just going to be saving an arbitrary one of those enrollment dates. \n",
    "        ## Instead, it makes sense to save their most recent enrollment date in that case. \n",
    "        ## To accomplish that, only add the enrollment date to the dictionary \n",
    "        ## if either the account key was not already present, \n",
    "        ## or if this enrollment date is more recent than the date that's already present.\n",
    "        \n",
    "        if student['account_key'] not in paid_students or \\\n",
    "                student['join_date'] > paid_students[student['account_key']]:\n",
    "            \n",
    "            paid_students[student['account_key']] = student['join_date']\n",
    "\n",
    "print(len(paid_students))"
   ]
  },
  {
   "cell_type": "raw",
   "metadata": {},
   "source": [
    "paid_students = {}\n",
    "for enrollment in non_udacity_enrollments:\n",
    "    if (not enrollment['is_canceled'] or\n",
    "            enrollment['days_to_cancel'] > 7):\n",
    "        account_key = enrollment['account_key']\n",
    "        enrollment_date = enrollment['join_date']\n",
    "        if (account_key not in paid_students or\n",
    "                enrollment_date > paid_students[account_key]):\n",
    "            paid_students[account_key] = enrollment_date\n",
    "len(paid_students)\n",
    "\n",
    "print(paid_students['0'])"
   ]
  },
  {
   "cell_type": "markdown",
   "metadata": {},
   "source": [
    "## Getting Data from First Week"
   ]
  },
  {
   "cell_type": "code",
   "execution_count": 15,
   "metadata": {
    "collapsed": true
   },
   "outputs": [],
   "source": [
    "# Takes a student's join date and the date of a specific engagement record,\n",
    "# and returns True if that engagement record happened within one week\n",
    "# of the student joining.\n",
    "def within_one_week(join_date, engagement_date):\n",
    "    time_delta = engagement_date - join_date\n",
    "    return time_delta.days < 7 and time_delta.days >= 0"
   ]
  },
  {
   "cell_type": "code",
   "execution_count": 16,
   "metadata": {
    "collapsed": false
   },
   "outputs": [],
   "source": [
    "#####################################\n",
    "#                 7                 #\n",
    "#####################################\n",
    "\n",
    "## Create a list of rows from the engagement table including only rows where\n",
    "## the student is one of the paid students you just found, and the date is within\n",
    "## one week of the student's join date.\n",
    "def remove_free_trial_cancels(data):\n",
    "    new_data = []\n",
    "    for data_point in data:\n",
    "        if data_point['account_key'] in paid_students:\n",
    "            new_data.append(data_point)\n",
    "    return new_data"
   ]
  },
  {
   "cell_type": "code",
   "execution_count": 17,
   "metadata": {
    "collapsed": false
   },
   "outputs": [
    {
     "name": "stdout",
     "output_type": "stream",
     "text": [
      "1293\n",
      "134549\n",
      "3618\n",
      "6919\n"
     ]
    }
   ],
   "source": [
    "paid_enrollments = remove_free_trial_cancels(non_udacity_enrollments)\n",
    "paid_engagements = remove_free_trial_cancels(non_udacity_engagement)\n",
    "paid_submissions = remove_free_trial_cancels(non_udacity_submissions)\n",
    "\n",
    "print(len(paid_enrollments))\n",
    "print(len(paid_engagements))\n",
    "print(len(paid_submissions))\n",
    "\n",
    "for engagement_record in paid_engagements:\n",
    "    if engagement_record['num_courses_visited'] > 0:\n",
    "        engagement_record['has_visited'] = 1\n",
    "    else:\n",
    "        engagement_record['has_visited'] = 0\n",
    "\n",
    "paid_engagement_in_first_week = []\n",
    "\n",
    "for engagement in paid_engagements:\n",
    "    account_key = engagement['account_key']\n",
    "    engagement_date = engagement['utc_date']\n",
    "    join_date = paid_students[account_key]\n",
    "    \n",
    "    if within_one_week(join_date, engagement_date):\n",
    "        paid_engagement_in_first_week.append(engagement)\n",
    "        \n",
    "print(len(paid_engagement_in_first_week))"
   ]
  },
  {
   "cell_type": "markdown",
   "metadata": {},
   "source": [
    "## Exploring Student Engagement"
   ]
  },
  {
   "cell_type": "code",
   "execution_count": 18,
   "metadata": {
    "collapsed": true
   },
   "outputs": [],
   "source": [
    "from collections import defaultdict\n",
    "\n",
    "# Create a dictionary of engagement grouped by student.\n",
    "# The keys are account keys, and the values are lists of engagement records.\n",
    "engagement_by_account = defaultdict(list)\n",
    "for engagement_record in paid_engagement_in_first_week:\n",
    "    account_key = engagement_record['account_key']\n",
    "    engagement_by_account[account_key].append(engagement_record)"
   ]
  },
  {
   "cell_type": "code",
   "execution_count": 19,
   "metadata": {
    "collapsed": true
   },
   "outputs": [],
   "source": [
    "# Create a dictionary with the total minutes each student spent in the classroom during the first week.\n",
    "# The keys are account keys, and the values are numbers (total minutes)\n",
    "total_minutes_by_account = {}\n",
    "for account_key, engagement_for_student in engagement_by_account.items():\n",
    "    total_minutes = 0\n",
    "    for engagement_record in engagement_for_student:\n",
    "        total_minutes += engagement_record['total_minutes_visited']\n",
    "    total_minutes_by_account[account_key] = total_minutes"
   ]
  },
  {
   "cell_type": "code",
   "execution_count": 20,
   "metadata": {
    "collapsed": false
   },
   "outputs": [
    {
     "name": "stdout",
     "output_type": "stream",
     "text": [
      "Mean: 306.708326753\n",
      "Standard deviation: 412.996933409\n",
      "Minimum: 0.0\n",
      "Maximum: 3564.7332645\n"
     ]
    }
   ],
   "source": [
    "import numpy as np\n",
    "\n",
    "# Summarize the data about minutes spent in the classroom\n",
    "total_minutes = total_minutes_by_account.values()\n",
    "\n",
    "print('Mean:', np.mean(list(total_minutes)))\n",
    "print('Standard deviation:', np.std(list(total_minutes)))\n",
    "print('Minimum:', np.min(list(total_minutes)))\n",
    "print('Maximum:', np.max(list(total_minutes)))"
   ]
  },
  {
   "cell_type": "markdown",
   "metadata": {},
   "source": [
    "## Debugging Data Analysis Code"
   ]
  },
  {
   "cell_type": "code",
   "execution_count": 21,
   "metadata": {
    "collapsed": false
   },
   "outputs": [
    {
     "name": "stdout",
     "output_type": "stream",
     "text": [
      "{'has_visited': 1, 'num_courses_visited': 4, 'account_key': '163', 'projects_completed': 0, 'utc_date': datetime.datetime(2015, 7, 9, 0, 0), 'total_minutes_visited': 850.519339666, 'lessons_completed': 4}\n",
      "{'has_visited': 1, 'num_courses_visited': 6, 'account_key': '163', 'projects_completed': 0, 'utc_date': datetime.datetime(2015, 7, 10, 0, 0), 'total_minutes_visited': 872.633923334, 'lessons_completed': 6}\n",
      "{'has_visited': 1, 'num_courses_visited': 2, 'account_key': '163', 'projects_completed': 0, 'utc_date': datetime.datetime(2015, 7, 11, 0, 0), 'total_minutes_visited': 777.018903666, 'lessons_completed': 6}\n",
      "{'has_visited': 1, 'num_courses_visited': 1, 'account_key': '163', 'projects_completed': 0, 'utc_date': datetime.datetime(2015, 7, 12, 0, 0), 'total_minutes_visited': 294.568774, 'lessons_completed': 2}\n",
      "{'has_visited': 1, 'num_courses_visited': 3, 'account_key': '163', 'projects_completed': 0, 'utc_date': datetime.datetime(2015, 7, 13, 0, 0), 'total_minutes_visited': 471.2139785, 'lessons_completed': 1}\n",
      "{'has_visited': 1, 'num_courses_visited': 2, 'account_key': '163', 'projects_completed': 0, 'utc_date': datetime.datetime(2015, 7, 14, 0, 0), 'total_minutes_visited': 298.778345333, 'lessons_completed': 1}\n",
      "{'has_visited': 0, 'num_courses_visited': 0, 'account_key': '163', 'projects_completed': 0, 'utc_date': datetime.datetime(2015, 7, 15, 0, 0), 'total_minutes_visited': 0.0, 'lessons_completed': 0}\n"
     ]
    }
   ],
   "source": [
    "#####################################\n",
    "#                 8                 #\n",
    "#####################################\n",
    "\n",
    "## Go through a similar process as before to see if there is a problem.\n",
    "## Locate at least one surprising piece of data, output it, and take a look at it.\n",
    "'''\n",
    "print(len(paid_enrollments))\n",
    "print(len(paid_engagements))\n",
    "paid_student_engagements = set()\n",
    "for unique_student in paid_engagements:\n",
    "    paid_student_engagements.add(unique_student['account_key'])\n",
    "print(len(paid_student_engagements))\n",
    "print(len(paid_submissions))\n",
    "'''\n",
    "\n",
    "student_with_max_minutes = None\n",
    "max_minutes = 0\n",
    "\n",
    "for student, total_minutes in total_minutes_by_account.items():\n",
    "    if total_minutes>max_minutes:\n",
    "        max_minutes = total_minutes\n",
    "        student_with_max_minutes = student\n",
    "        \n",
    "max_minutes\n",
    "\n",
    "for engagement_record in paid_engagement_in_first_week:\n",
    "    if engagement_record['account_key'] == student_with_max_minutes:\n",
    "        print(engagement_record)"
   ]
  },
  {
   "cell_type": "markdown",
   "metadata": {},
   "source": [
    "## Lessons Completed in First Week"
   ]
  },
  {
   "cell_type": "code",
   "execution_count": 22,
   "metadata": {
    "collapsed": false
   },
   "outputs": [
    {
     "name": "stdout",
     "output_type": "stream",
     "text": [
      "Mean:  1.63618090452\n",
      "Standard Deviation:  3.00256129983\n",
      "Minimum:  0\n",
      "Maximum:  36\n"
     ]
    }
   ],
   "source": [
    "#####################################\n",
    "#                 9                 #\n",
    "#####################################\n",
    "\n",
    "## Adapt the code above to find the mean, standard deviation, minimum, and maximum for\n",
    "## the number of lessons completed by each student during the first week. Try creating\n",
    "## one or more functions to re-use the code above.\n",
    "\n",
    "from collections import defaultdict\n",
    "\n",
    "def group_data(data, key_name):\n",
    "    grouped_data = defaultdict(list)\n",
    "    \n",
    "    for data_point in data:\n",
    "        key = data_point[key_name]\n",
    "        grouped_data[key].append(data_point)\n",
    "    return grouped_data\n",
    "\n",
    "# engagement_by_account = group_data(paid_engagement_in_first_week, 'account_key')\n",
    "\n",
    "def sum_grouped_item(grouped_data, field_name):\n",
    "    summed_data = {}\n",
    "    for key, data_points in grouped_data.items():\n",
    "        total = 0\n",
    "        for data_point in data_points:\n",
    "            total += data_point[field_name]\n",
    "        summed_data[key] = total\n",
    "    return summed_data\n",
    "\n",
    "lessons_completed_by_account = sum_grouped_item(engagement_by_account, 'lessons_completed')\n",
    "\n",
    "import numpy as np\n",
    "\n",
    "def describe_data(data):\n",
    "    print('Mean: ', np.mean(list(data)))\n",
    "    print('Standard Deviation: ', np.std(list(data)))\n",
    "    print('Minimum: ', np.min(list(data)))\n",
    "    print('Maximum: ', np.max(list(data)))\n",
    "\n",
    "describe_data(lessons_completed_by_account.values())"
   ]
  },
  {
   "cell_type": "markdown",
   "metadata": {},
   "source": [
    "## Number of Visits in First Week"
   ]
  },
  {
   "cell_type": "code",
   "execution_count": 23,
   "metadata": {
    "collapsed": false
   },
   "outputs": [
    {
     "name": "stdout",
     "output_type": "stream",
     "text": [
      "Mean:  2.86733668342\n",
      "Standard Deviation:  2.25519800292\n",
      "Minimum:  0\n",
      "Maximum:  7\n"
     ]
    }
   ],
   "source": [
    "######################################\n",
    "#                 10                 #\n",
    "######################################\n",
    "\n",
    "## Find the mean, standard deviation, minimum, and maximum for the number of\n",
    "## days each student visits the classroom during the first week.\n",
    "\n",
    "#engagement_by_account = group_data(paid_engagement_in_first_week, 'account_key')\n",
    "days_visited_by_account = sum_grouped_item(engagement_by_account, 'has_visited')\n",
    "describe_data(days_visited_by_account.values())"
   ]
  },
  {
   "cell_type": "markdown",
   "metadata": {},
   "source": [
    "## Splitting out Passing Students"
   ]
  },
  {
   "cell_type": "code",
   "execution_count": 24,
   "metadata": {
    "collapsed": false
   },
   "outputs": [
    {
     "name": "stdout",
     "output_type": "stream",
     "text": [
      "647\n",
      "4527 2392\n"
     ]
    }
   ],
   "source": [
    "######################################\n",
    "#                 11                 #\n",
    "######################################\n",
    "\n",
    "## Create two lists of engagement data for paid students in the first week.\n",
    "## The first list should contain data for students who eventually pass the\n",
    "## subway project, and the second list should contain data for students\n",
    "## who do not.\n",
    "\n",
    "subway_project_lesson_keys = ['746169184', '3176718735']\n",
    "\n",
    "pass_subway_project = set()\n",
    "\n",
    "for student in paid_submissions:\n",
    "    project = student['lesson_key']\n",
    "    rating = student['assigned_rating']\n",
    "    if project in subway_project_lesson_keys and \\\n",
    "            (rating == 'PASSED' or rating == 'DISTINCTION'):\n",
    "        pass_subway_project.add(student['account_key'])\n",
    "        \n",
    "print(len(pass_subway_project))\n",
    "\n",
    "passing_engagement = []\n",
    "non_passing_engagement = []\n",
    "\n",
    "for engagement_record in paid_engagement_in_first_week:\n",
    "    if engagement_record['account_key'] in pass_subway_project:\n",
    "        passing_engagement.append(engagement_record)\n",
    "    \n",
    "    else:\n",
    "        non_passing_engagement.append(engagement_record)\n",
    "        \n",
    "print(len(passing_engagement), len(non_passing_engagement))"
   ]
  },
  {
   "cell_type": "markdown",
   "metadata": {},
   "source": [
    "## Comparing the Two Student Groups"
   ]
  },
  {
   "cell_type": "code",
   "execution_count": 25,
   "metadata": {
    "collapsed": false
   },
   "outputs": [
    {
     "name": "stdout",
     "output_type": "stream",
     "text": [
      "<total_minutes_visited>\n",
      " non-passing students:\n",
      "Mean:  143.326474267\n",
      "Standard Deviation:  269.538619011\n",
      "Minimum:  0.0\n",
      "Maximum:  1768.52274933\n",
      "\n",
      " passing students:\n",
      "Mean:  394.586046484\n",
      "Standard Deviation:  448.499519327\n",
      "Minimum:  0.0\n",
      "Maximum:  3564.7332645\n",
      "\n",
      "<lessons_completed>\n",
      " non-passing students:\n",
      "Mean:  0.862068965517\n",
      "Standard Deviation:  2.54915994183\n",
      "Minimum:  0\n",
      "Maximum:  27\n",
      "\n",
      " passing students:\n",
      "Mean:  2.05255023184\n",
      "Standard Deviation:  3.14222705558\n",
      "Minimum:  0\n",
      "Maximum:  36\n",
      "\n",
      "<has_visited>\n",
      "on-passing students:\n",
      "Mean:  1.90517241379\n",
      "Standard Deviation:  1.90573144136\n",
      "Minimum:  0\n",
      "Maximum:  7\n",
      "\n",
      " passing students:\n",
      "Mean:  3.38485316847\n",
      "Standard Deviation:  2.25882147092\n",
      "Minimum:  0\n",
      "Maximum:  7\n"
     ]
    }
   ],
   "source": [
    "######################################\n",
    "#                 12                 #\n",
    "######################################\n",
    "\n",
    "## Compute some metrics you're interested in and see how they differ for\n",
    "## students who pass the subway project vs. students who don't. A good\n",
    "## starting point would be the metrics we looked at earlier (minutes spent\n",
    "## in the classroom, lessons completed, and days visited).\n",
    "passing_engagement_by_account = group_data(passing_engagement, 'account_key')\n",
    "non_passing_engagement_by_account = group_data(non_passing_engagement, 'account_key')\n",
    "\n",
    "print('<total_minutes_visited>')\n",
    "print(' non-passing students:')\n",
    "non_passing_minutes = sum_grouped_item(non_passing_engagement_by_account,'total_minutes_visited')\n",
    "describe_data(non_passing_minutes.values())\n",
    "\n",
    "print('\\n passing students:')\n",
    "passing_minutes = sum_grouped_item(passing_engagement_by_account,'total_minutes_visited')\n",
    "describe_data(passing_minutes.values())\n",
    "\n",
    "print('\\n<lessons_completed>')\n",
    "print(' non-passing students:')\n",
    "non_passing_lessons = sum_grouped_item(non_passing_engagement_by_account,'lessons_completed')\n",
    "describe_data(non_passing_lessons.values())\n",
    "\n",
    "print('\\n passing students:')\n",
    "passing_lessons = sum_grouped_item(passing_engagement_by_account,'lessons_completed')\n",
    "describe_data(passing_lessons.values())\n",
    "\n",
    "print('\\n<has_visited>')\n",
    "print('on-passing students:')\n",
    "non_passing_visits = sum_grouped_item(non_passing_engagement_by_account, 'has_visited')\n",
    "describe_data(non_passing_visits.values())\n",
    "\n",
    "print('\\n passing students:')\n",
    "passing_visits = sum_grouped_item(passing_engagement_by_account, 'has_visited')\n",
    "describe_data(passing_visits.values())"
   ]
  },
  {
   "cell_type": "markdown",
   "metadata": {},
   "source": [
    "## Making Histograms"
   ]
  },
  {
   "cell_type": "code",
   "execution_count": 26,
   "metadata": {
    "collapsed": false
   },
   "outputs": [
    {
     "data": {
      "text/plain": [
       "<matplotlib.text.Text at 0x112646c18>"
      ]
     },
     "execution_count": 26,
     "metadata": {},
     "output_type": "execute_result"
    },
    {
     "data": {
      "image/png": "[encoded data removed]",
      "text/plain": [
       "<matplotlib.figure.Figure at 0x112986278>"
      ]
     },
     "metadata": {},
     "output_type": "display_data"
    }
   ],
   "source": [
    "######################################\n",
    "#                 13                 #\n",
    "######################################\n",
    "\n",
    "## Make histograms of the three metrics we looked at earlier for both\n",
    "## students who passed the subway project and students who didn't. You\n",
    "## might also want to make histograms of any other metrics you examined.\n",
    "\n",
    "import matplotlib.pyplot as plt\n",
    "%matplotlib inline\n",
    "\n",
    "fig, ax = plt.subplots(3, 2, figsize=[8, 8])\n",
    "\n",
    "ax[0][0].hist(list(non_passing_minutes.values()))\n",
    "ax[0][0].set_title('non_passing_minutes')\n",
    "ax[0][1].hist(list(passing_minutes.values()))\n",
    "ax[0][1].set_title('passing_minutes')\n",
    "\n",
    "ax[1][0].hist(list(non_passing_lessons.values()))\n",
    "ax[1][0].set_title('non_passing_lessons')\n",
    "ax[1][1].hist(list(passing_lessons.values()))\n",
    "ax[1][1].set_title('passing_lessons')\n",
    "\n",
    "ax[2][0].hist(list(non_passing_visits.values()))\n",
    "ax[2][0].set_title('non_passing_visits')\n",
    "ax[2][1].hist(list(passing_visits.values()))\n",
    "ax[2][1].set_title('passing_visits')"
   ]
  },
  {
   "cell_type": "markdown",
   "metadata": {},
   "source": [
    "## Improving Plots and Sharing Findings"
   ]
  },
  {
   "cell_type": "code",
   "execution_count": 30,
   "metadata": {
    "collapsed": false
   },
   "outputs": [
    {
     "data": {
      "text/plain": [
       "<matplotlib.text.Text at 0x11165c438>"
      ]
     },
     "execution_count": 30,
     "metadata": {},
     "output_type": "execute_result"
    },
    {
     "data": {
      "image/png": "[encoded data removed]",
      "text/plain": [
       "<matplotlib.figure.Figure at 0x111771f98>"
      ]
     },
     "metadata": {},
     "output_type": "display_data"
    }
   ],
   "source": [
    "######################################\n",
    "#                 14                 #\n",
    "######################################\n",
    "\n",
    "## Make a more polished version of at least one of your visualizations\n",
    "## from earlier. Try importing the seaborn library to make the visualization\n",
    "## look better, adding axis labels and a title, and changing one or more\n",
    "## arguments to the hist() function.\n",
    "\n",
    "import seaborn as sns\n",
    "\n",
    "fig, ax = plt.subplots(3, 2, figsize=[12, 12])\n",
    "\n",
    "ax[0][0].hist(list(non_passing_minutes.values()))\n",
    "ax[0][0].set_title('non_passing_minutes')\n",
    "ax[0][1].hist(list(passing_minutes.values()))\n",
    "ax[0][1].set_title('passing_minutes')\n",
    "\n",
    "ax[1][0].hist(list(non_passing_lessons.values()))\n",
    "ax[1][0].set_title('non_passing_lessons')\n",
    "ax[1][1].hist(list(passing_lessons.values()))\n",
    "ax[1][1].set_title('passing_lessons')\n",
    "\n",
    "ax[2][0].hist(list(non_passing_visits.values()), bins=8)\n",
    "ax[2][0].set_title('Distribution of classroom visits in the first week ' + \n",
    "          'for students who do not pass the subway project')\n",
    "ax[2][0].set_xlabel('Number of days')\n",
    "ax[2][1].hist(list(passing_visits.values()), bins=8)\n",
    "ax[2][1].set_xlabel('Number of days')\n",
    "ax[2][1].set_title('Distribution of classroom visits in the first week ' + \n",
    "          'for students who pass the subway project')"
   ]
  }
 ],
 "metadata": {
  "anaconda-cloud": {},
  "kernelspec": {
   "display_name": "Python [conda root]",
   "language": "python",
   "name": "conda-root-py"
  },
  "language_info": {
   "codemirror_mode": {
    "name": "ipython",
    "version": 3
   },
   "file_extension": ".py",
   "mimetype": "text/x-python",
   "name": "python",
   "nbconvert_exporter": "python",
   "pygments_lexer": "ipython3",
   "version": "3.5.2"
  }
 },
 "nbformat": 4,
 "nbformat_minor": 0
}
