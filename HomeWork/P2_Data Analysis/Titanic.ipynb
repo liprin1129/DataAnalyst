{
 "cells": [
  {
   "cell_type": "markdown",
   "metadata": {
    "deletable": true,
    "editable": true
   },
   "source": [
    "# Titanic Passengers Analysis"
   ]
  },
  {
   "cell_type": "markdown",
   "metadata": {
    "deletable": true,
    "editable": true
   },
   "source": [
    "## Introduction\n",
    "\n",
    "In this project, I analysed demographic dataset of titanic passengers obtained from Kaggle website.\n",
    "\n",
    "The sinking of the Titanic is great sorrow in modern history but also famous story because of the movie filmed by James Cameron. In the movie, Titanic, crew shouted \"embark first young and women to save boats\". I am curious about this is really true, and want to see whether people in the Cruise were willing to give their way to other people on the verge of death; though this cannot strongly conclude that people will do the same as those who are on the Titanic. \n",
    "\n",
    "<!--\n",
    "those who are young and women had a higher priority to embark the safe boats than those who are men and old.\n",
    "\n",
    "Then, I will investigate factors for which one has the most influence on the passengers' servive in Titanic disaster.\n",
    "\n",
    "To answer the first question; Did younger or women survive more than men or older, I just briefly compared survival rate between them.\n",
    "\n",
    "I will use hypothesis test (t-test) to compare factors in order to identify which one has the most possiblity to survive in a sinking cruise for further predctions, dealing with titanic data set as a sample data.\n",
    "-->\n",
    "\n",
    "To answer the question; did younger or women survive more than men or older, I just briefly compared survival rates between them.\n",
    "\n",
    "For the task to answer the question, the analysis will follow the flow as below recursively,\n",
    "\n",
    "1. __*Data Wrangling*__ to investigate problems in the data set\n",
    "2. __*Data Exploration*__ to detect further problems and find patterns\n",
    "3. __*Drawing Conclusions*__ to conclude the factor for passengers' servive"
   ]
  },
  {
   "cell_type": "markdown",
   "metadata": {
    "deletable": true,
    "editable": true
   },
   "source": [
    "---\n",
    "\n",
    "## 1. Did female survive more than male?"
   ]
  },
  {
   "cell_type": "code",
   "execution_count": 1,
   "metadata": {
    "collapsed": false,
    "deletable": true,
    "editable": true
   },
   "outputs": [],
   "source": [
    "import numpy as np\n",
    "import pandas as pd\n",
    "import matplotlib.pyplot as plt\n",
    "import seaborn as sns\n",
    "%matplotlib inline"
   ]
  },
  {
   "cell_type": "markdown",
   "metadata": {
    "deletable": true,
    "editable": true
   },
   "source": [
    "The first step is to look at the structure of the dataset by printing out the first few rows of the data set, in order to see whether there is any problem we have to perform data wrangling."
   ]
  },
  {
   "cell_type": "code",
   "execution_count": 2,
   "metadata": {
    "collapsed": false,
    "deletable": true,
    "editable": true
   },
   "outputs": [],
   "source": [
    "file_name = \"titanic-data.csv\"\n",
    "titanic_df = pd.read_csv(file_name)"
   ]
  },
  {
   "cell_type": "code",
   "execution_count": 3,
   "metadata": {
    "collapsed": false,
    "deletable": true,
    "editable": true
   },
   "outputs": [
    {
     "name": "stdout",
     "output_type": "stream",
     "text": [
      "891\n"
     ]
    },
    {
     "data": {
      "text/html": [
       "<div>\n",
       "<table border=\"1\" class=\"dataframe\">\n",
       "  <thead>\n",
       "    <tr style=\"text-align: right;\">\n",
       "      <th></th>\n",
       "      <th>PassengerId</th>\n",
       "      <th>Survived</th>\n",
       "      <th>Pclass</th>\n",
       "      <th>Name</th>\n",
       "      <th>Sex</th>\n",
       "      <th>Age</th>\n",
       "      <th>SibSp</th>\n",
       "      <th>Parch</th>\n",
       "      <th>Ticket</th>\n",
       "      <th>Fare</th>\n",
       "      <th>Cabin</th>\n",
       "      <th>Embarked</th>\n",
       "    </tr>\n",
       "  </thead>\n",
       "  <tbody>\n",
       "    <tr>\n",
       "      <th>0</th>\n",
       "      <td>1</td>\n",
       "      <td>0</td>\n",
       "      <td>3</td>\n",
       "      <td>Braund, Mr. Owen Harris</td>\n",
       "      <td>male</td>\n",
       "      <td>22.0</td>\n",
       "      <td>1</td>\n",
       "      <td>0</td>\n",
       "      <td>A/5 21171</td>\n",
       "      <td>7.2500</td>\n",
       "      <td>NaN</td>\n",
       "      <td>S</td>\n",
       "    </tr>\n",
       "    <tr>\n",
       "      <th>1</th>\n",
       "      <td>2</td>\n",
       "      <td>1</td>\n",
       "      <td>1</td>\n",
       "      <td>Cumings, Mrs. John Bradley (Florence Briggs Th...</td>\n",
       "      <td>female</td>\n",
       "      <td>38.0</td>\n",
       "      <td>1</td>\n",
       "      <td>0</td>\n",
       "      <td>PC 17599</td>\n",
       "      <td>71.2833</td>\n",
       "      <td>C85</td>\n",
       "      <td>C</td>\n",
       "    </tr>\n",
       "    <tr>\n",
       "      <th>2</th>\n",
       "      <td>3</td>\n",
       "      <td>1</td>\n",
       "      <td>3</td>\n",
       "      <td>Heikkinen, Miss. Laina</td>\n",
       "      <td>female</td>\n",
       "      <td>26.0</td>\n",
       "      <td>0</td>\n",
       "      <td>0</td>\n",
       "      <td>STON/O2. 3101282</td>\n",
       "      <td>7.9250</td>\n",
       "      <td>NaN</td>\n",
       "      <td>S</td>\n",
       "    </tr>\n",
       "    <tr>\n",
       "      <th>3</th>\n",
       "      <td>4</td>\n",
       "      <td>1</td>\n",
       "      <td>1</td>\n",
       "      <td>Futrelle, Mrs. Jacques Heath (Lily May Peel)</td>\n",
       "      <td>female</td>\n",
       "      <td>35.0</td>\n",
       "      <td>1</td>\n",
       "      <td>0</td>\n",
       "      <td>113803</td>\n",
       "      <td>53.1000</td>\n",
       "      <td>C123</td>\n",
       "      <td>S</td>\n",
       "    </tr>\n",
       "    <tr>\n",
       "      <th>4</th>\n",
       "      <td>5</td>\n",
       "      <td>0</td>\n",
       "      <td>3</td>\n",
       "      <td>Allen, Mr. William Henry</td>\n",
       "      <td>male</td>\n",
       "      <td>35.0</td>\n",
       "      <td>0</td>\n",
       "      <td>0</td>\n",
       "      <td>373450</td>\n",
       "      <td>8.0500</td>\n",
       "      <td>NaN</td>\n",
       "      <td>S</td>\n",
       "    </tr>\n",
       "  </tbody>\n",
       "</table>\n",
       "</div>"
      ],
      "text/plain": [
       "   PassengerId  Survived  Pclass  \\\n",
       "0            1         0       3   \n",
       "1            2         1       1   \n",
       "2            3         1       3   \n",
       "3            4         1       1   \n",
       "4            5         0       3   \n",
       "\n",
       "                                                Name     Sex   Age  SibSp  \\\n",
       "0                            Braund, Mr. Owen Harris    male  22.0      1   \n",
       "1  Cumings, Mrs. John Bradley (Florence Briggs Th...  female  38.0      1   \n",
       "2                             Heikkinen, Miss. Laina  female  26.0      0   \n",
       "3       Futrelle, Mrs. Jacques Heath (Lily May Peel)  female  35.0      1   \n",
       "4                           Allen, Mr. William Henry    male  35.0      0   \n",
       "\n",
       "   Parch            Ticket     Fare Cabin Embarked  \n",
       "0      0         A/5 21171   7.2500   NaN        S  \n",
       "1      0          PC 17599  71.2833   C85        C  \n",
       "2      0  STON/O2. 3101282   7.9250   NaN        S  \n",
       "3      0            113803  53.1000  C123        S  \n",
       "4      0            373450   8.0500   NaN        S  "
      ]
     },
     "execution_count": 3,
     "metadata": {},
     "output_type": "execute_result"
    }
   ],
   "source": [
    "print(len(titanic_df))\n",
    "titanic_df.head()"
   ]
  },
  {
   "cell_type": "markdown",
   "metadata": {
    "deletable": true,
    "editable": true
   },
   "source": [
    "I just want to see the number of survivals in terms of their age and sex. So, I grouped them into two; male and female. "
   ]
  },
  {
   "cell_type": "code",
   "execution_count": 4,
   "metadata": {
    "collapsed": false,
    "deletable": true,
    "editable": true
   },
   "outputs": [
    {
     "data": {
      "text/plain": [
       "Sex\n",
       "female    314\n",
       "male      577\n",
       "Name: PassengerId, dtype: int64"
      ]
     },
     "execution_count": 4,
     "metadata": {},
     "output_type": "execute_result"
    }
   ],
   "source": [
    "grouped_by_sex = titanic_df.groupby(\"Sex\")\n",
    "\n",
    "total_by_sex = grouped_by_sex.count()[\"PassengerId\"]\n",
    "total_by_sex"
   ]
  },
  {
   "cell_type": "markdown",
   "metadata": {
    "deletable": true,
    "editable": true
   },
   "source": [
    "577 men and 314 women embarked in Titanic, and the sum of these two numbers is the same as the total number of passengers. So, there are no missing data (passenger's unidentified sex).\n",
    "\n",
    "However, there are some discrepancy between the total number of women and their count for 'Age', 'Cabin' and 'Embarked', as well as between the total number of men in the cruise and their count of 'Age' and 'Embarked'. For example, 314 female passengers were embarked to Titanic, but only 261 female passengers' age is known, and 97 female passenger's Cabin information are identified. This time I just want to know the number of survival in terms of passengers' sex, I will neglect these, but these discrepancies will be dealt with later to find the factor which has an influence on survival rate."
   ]
  },
  {
   "cell_type": "markdown",
   "metadata": {
    "deletable": true,
    "editable": true
   },
   "source": [
    "If I sum of elements in Survived column, this will result in the number of survivals because 1 implied survived and 0 means couldn't."
   ]
  },
  {
   "cell_type": "code",
   "execution_count": 5,
   "metadata": {
    "collapsed": false,
    "deletable": true,
    "editable": true
   },
   "outputs": [
    {
     "data": {
      "text/plain": [
       "Sex\n",
       "female    233\n",
       "male      109\n",
       "Name: Survived, dtype: int64"
      ]
     },
     "execution_count": 5,
     "metadata": {},
     "output_type": "execute_result"
    }
   ],
   "source": [
    "survived_by_sex = grouped_by_sex[\"Survived\"].sum()\n",
    "survived_by_sex"
   ]
  },
  {
   "cell_type": "markdown",
   "metadata": {
    "deletable": true,
    "editable": true
   },
   "source": [
    "233 women out of 314 were saved and 109 men out of 577 were survived from the Titanic accident. It is better to plot this survival numbers for both sex to help recognise those differences in an intuitive sense."
   ]
  },
  {
   "cell_type": "code",
   "execution_count": 6,
   "metadata": {
    "collapsed": false,
    "deletable": true,
    "editable": true
   },
   "outputs": [
    {
     "data": {
      "image/png": "[encoded data removed]",
      "text/plain": [
       "<matplotlib.figure.Figure at 0x10ece9c50>"
      ]
     },
     "metadata": {},
     "output_type": "display_data"
    }
   ],
   "source": [
    "# create a new dataframe\n",
    "sex_df = pd.concat([total_by_sex, survived_by_sex], axis=1)\n",
    "\n",
    "plt.figure(figsize=(6, 6))\n",
    "plt.xticks(fontsize = 15)\n",
    "plt.yticks(fontsize = 15)\n",
    "\n",
    "top_plot = sns.barplot(x = ['Female', 'Male'], y = sex_df['PassengerId'], color = \"red\", alpha = 0.7)\n",
    "bottom_plot = sns.barplot(x = ['Female', 'Male'], y = sex_df['Survived'], color = \"blue\", alpha = 1)\n",
    "\n",
    "plt.ylabel('Number of Survivals', size = '14')\n",
    "plt.xlabel('Passengers Grouped by Sex', size = '14')\n",
    "plt.title('Comparison of Survivals by Sex', size = '14')\n",
    "\n",
    "topbar = plt.Rectangle((0,0),1,1,fc=\"red\", alpha = 0.7)\n",
    "bottombar = plt.Rectangle((0,0),1,1,fc='blue')\n",
    "legend = plt.legend([topbar, bottombar], ['Total by Sex', 'Sruvived by Sex'], loc=2, ncol = 1, prop={'size':15})"
   ]
  },
  {
   "cell_type": "markdown",
   "metadata": {
    "deletable": true,
    "editable": true
   },
   "source": [
    "As seen in the above figure, although fewer female passengers were on the cruise than men, a larger number of female passengers were survived than male passengers (more than twice the number of female passengers than male passengers survived). So, the story of the movie says true."
   ]
  },
  {
   "cell_type": "markdown",
   "metadata": {
    "deletable": true,
    "editable": true
   },
   "source": [
    "---\n",
    "## 2. Did young people survived more than older people?"
   ]
  },
  {
   "cell_type": "markdown",
   "metadata": {
    "deletable": true,
    "editable": true
   },
   "source": [
    "Next, I want to know younger people (under 18) were survived more than older people, and then the number of their survivals in terms of Sex. Before diving into the investigation, I want to find all missing data in the 'Age' column (passengers' unidentified age). So, I count the data frame and it shows as below."
   ]
  },
  {
   "cell_type": "code",
   "execution_count": 7,
   "metadata": {
    "collapsed": false,
    "deletable": true,
    "editable": true
   },
   "outputs": [
    {
     "data": {
      "text/plain": [
       "PassengerId    891\n",
       "Survived       891\n",
       "Pclass         891\n",
       "Name           891\n",
       "Sex            891\n",
       "Age            714\n",
       "SibSp          891\n",
       "Parch          891\n",
       "Ticket         891\n",
       "Fare           891\n",
       "Cabin          204\n",
       "Embarked       889\n",
       "dtype: int64"
      ]
     },
     "execution_count": 7,
     "metadata": {},
     "output_type": "execute_result"
    }
   ],
   "source": [
    "titanic_df.count()"
   ]
  },
  {
   "cell_type": "markdown",
   "metadata": {
    "deletable": true,
    "editable": true
   },
   "source": [
    "The age information of 177 passengers was unidentified, so I ruled out those missing data."
   ]
  },
  {
   "cell_type": "code",
   "execution_count": 8,
   "metadata": {
    "collapsed": false,
    "deletable": true,
    "editable": true
   },
   "outputs": [
    {
     "data": {
      "text/plain": [
       "714"
      ]
     },
     "execution_count": 8,
     "metadata": {},
     "output_type": "execute_result"
    }
   ],
   "source": [
    "survived_by_age = titanic_df[titanic_df['Age'].notnull()]\n",
    "survived_by_age['Age'].count()"
   ]
  },
  {
   "cell_type": "code",
   "execution_count": 9,
   "metadata": {
    "collapsed": false,
    "deletable": true,
    "editable": true
   },
   "outputs": [
    {
     "data": {
      "text/html": [
       "<div>\n",
       "<table border=\"1\" class=\"dataframe\">\n",
       "  <thead>\n",
       "    <tr style=\"text-align: right;\">\n",
       "      <th></th>\n",
       "      <th>PassengerId</th>\n",
       "      <th>Survived</th>\n",
       "      <th>Pclass</th>\n",
       "      <th>Name</th>\n",
       "      <th>Sex</th>\n",
       "      <th>Age</th>\n",
       "      <th>SibSp</th>\n",
       "      <th>Parch</th>\n",
       "      <th>Ticket</th>\n",
       "      <th>Fare</th>\n",
       "      <th>Cabin</th>\n",
       "      <th>Embarked</th>\n",
       "    </tr>\n",
       "  </thead>\n",
       "  <tbody>\n",
       "    <tr>\n",
       "      <th>0</th>\n",
       "      <td>1</td>\n",
       "      <td>0</td>\n",
       "      <td>3</td>\n",
       "      <td>Braund, Mr. Owen Harris</td>\n",
       "      <td>male</td>\n",
       "      <td>22.0</td>\n",
       "      <td>1</td>\n",
       "      <td>0</td>\n",
       "      <td>A/5 21171</td>\n",
       "      <td>7.2500</td>\n",
       "      <td>NaN</td>\n",
       "      <td>S</td>\n",
       "    </tr>\n",
       "    <tr>\n",
       "      <th>1</th>\n",
       "      <td>2</td>\n",
       "      <td>1</td>\n",
       "      <td>1</td>\n",
       "      <td>Cumings, Mrs. John Bradley (Florence Briggs Th...</td>\n",
       "      <td>female</td>\n",
       "      <td>38.0</td>\n",
       "      <td>1</td>\n",
       "      <td>0</td>\n",
       "      <td>PC 17599</td>\n",
       "      <td>71.2833</td>\n",
       "      <td>C85</td>\n",
       "      <td>C</td>\n",
       "    </tr>\n",
       "    <tr>\n",
       "      <th>2</th>\n",
       "      <td>3</td>\n",
       "      <td>1</td>\n",
       "      <td>3</td>\n",
       "      <td>Heikkinen, Miss. Laina</td>\n",
       "      <td>female</td>\n",
       "      <td>26.0</td>\n",
       "      <td>0</td>\n",
       "      <td>0</td>\n",
       "      <td>STON/O2. 3101282</td>\n",
       "      <td>7.9250</td>\n",
       "      <td>NaN</td>\n",
       "      <td>S</td>\n",
       "    </tr>\n",
       "    <tr>\n",
       "      <th>3</th>\n",
       "      <td>4</td>\n",
       "      <td>1</td>\n",
       "      <td>1</td>\n",
       "      <td>Futrelle, Mrs. Jacques Heath (Lily May Peel)</td>\n",
       "      <td>female</td>\n",
       "      <td>35.0</td>\n",
       "      <td>1</td>\n",
       "      <td>0</td>\n",
       "      <td>113803</td>\n",
       "      <td>53.1000</td>\n",
       "      <td>C123</td>\n",
       "      <td>S</td>\n",
       "    </tr>\n",
       "    <tr>\n",
       "      <th>4</th>\n",
       "      <td>5</td>\n",
       "      <td>0</td>\n",
       "      <td>3</td>\n",
       "      <td>Allen, Mr. William Henry</td>\n",
       "      <td>male</td>\n",
       "      <td>35.0</td>\n",
       "      <td>0</td>\n",
       "      <td>0</td>\n",
       "      <td>373450</td>\n",
       "      <td>8.0500</td>\n",
       "      <td>NaN</td>\n",
       "      <td>S</td>\n",
       "    </tr>\n",
       "  </tbody>\n",
       "</table>\n",
       "</div>"
      ],
      "text/plain": [
       "   PassengerId  Survived  Pclass  \\\n",
       "0            1         0       3   \n",
       "1            2         1       1   \n",
       "2            3         1       3   \n",
       "3            4         1       1   \n",
       "4            5         0       3   \n",
       "\n",
       "                                                Name     Sex   Age  SibSp  \\\n",
       "0                            Braund, Mr. Owen Harris    male  22.0      1   \n",
       "1  Cumings, Mrs. John Bradley (Florence Briggs Th...  female  38.0      1   \n",
       "2                             Heikkinen, Miss. Laina  female  26.0      0   \n",
       "3       Futrelle, Mrs. Jacques Heath (Lily May Peel)  female  35.0      1   \n",
       "4                           Allen, Mr. William Henry    male  35.0      0   \n",
       "\n",
       "   Parch            Ticket     Fare Cabin Embarked  \n",
       "0      0         A/5 21171   7.2500   NaN        S  \n",
       "1      0          PC 17599  71.2833   C85        C  \n",
       "2      0  STON/O2. 3101282   7.9250   NaN        S  \n",
       "3      0            113803  53.1000  C123        S  \n",
       "4      0            373450   8.0500   NaN        S  "
      ]
     },
     "execution_count": 9,
     "metadata": {},
     "output_type": "execute_result"
    }
   ],
   "source": [
    "survived_by_age.head()"
   ]
  },
  {
   "cell_type": "code",
   "execution_count": 10,
   "metadata": {
    "collapsed": false,
    "deletable": true,
    "editable": true
   },
   "outputs": [
    {
     "data": {
      "image/png": "[encoded data removed]",
      "text/plain": [
       "<matplotlib.figure.Figure at 0x10eff5e10>"
      ]
     },
     "metadata": {},
     "output_type": "display_data"
    }
   ],
   "source": [
    "## Add new label 'Young or Older' that check whether passengers are under 18 or above\n",
    "def Young_Older(data):\n",
    "    data['Young or Older'] = 'Young' if data['Age'] < 18 else 'Old'\n",
    "    return data\n",
    "\n",
    "survived_by_age = survived_by_age.apply(Young_Older, axis = 1)\n",
    "#survived_by_age.head()\n",
    "\n",
    "## Make a new data frame sorted by Age\n",
    "age_grouped = survived_by_age.groupby('Young or Older')\n",
    "age_total = age_grouped.count()['PassengerId'] # total number of passengers in terms of their age\n",
    "age_survived = age_grouped.sum()['Survived'] # number of survived passengers in terms of their age\n",
    "age_df = pd.concat([age_survived, age_total], axis = 1)\n",
    "# age_df\n",
    "\n",
    "## Draw figures\n",
    "plt.figure(figsize=(6, 6))\n",
    "plt.xticks(fontsize = 15)\n",
    "plt.yticks(fontsize = 15)\n",
    "\n",
    "top_plot = sns.barplot(x = ['Old', 'Young'], y = age_df['PassengerId'], color = \"red\", alpha = 0.2)\n",
    "bottom_plot = sns.barplot(x = ['Old', 'Young'], y = age_df['Survived'], color = 'purple', alpha = 0.5)\n",
    "\n",
    "plt.ylabel('Number of Survivals', size = '14')\n",
    "plt.xlabel('Passengers Grouped by Age', size = '14')\n",
    "plt.title('Comparison of Survivals by Age', size = '14')\n",
    "\n",
    "topbar = plt.Rectangle((0,0),1,1,fc=\"red\", alpha = 0.2)\n",
    "bottombar = plt.Rectangle((0,0),1,1,fc='purple', alpha = 0.5)\n",
    "legend = plt.legend([topbar, bottombar], ['Total by Age', 'Sruvived by Age'], loc=0, ncol = 1, prop={'size':15})"
   ]
  },
  {
   "cell_type": "markdown",
   "metadata": {
    "deletable": true,
    "editable": true
   },
   "source": [
    "Only compare to the number of survivals in terms of their age, older people were saved of their life more than young people, but if I see the rate of them, over half of young people were survived, while people over 18 had the survival rate lower than 40%."
   ]
  },
  {
   "cell_type": "code",
   "execution_count": 11,
   "metadata": {
    "collapsed": false,
    "deletable": true,
    "editable": true
   },
   "outputs": [
    {
     "data": {
      "image/png": "[encoded data removed]",
      "text/plain": [
       "<matplotlib.figure.Figure at 0x10eccc978>"
      ]
     },
     "metadata": {},
     "output_type": "display_data"
    }
   ],
   "source": [
    "plt.figure(figsize=(6, 6))\n",
    "plt.xticks(fontsize = 15)\n",
    "plt.yticks(fontsize = 15)\n",
    "\n",
    "top_plot = sns.barplot(x = ['Old', 'Young'], y = age_df['PassengerId']/age_df['PassengerId'], color = \"red\", alpha = 0.2)\n",
    "bottom_plot = sns.barplot(x = ['Old', 'Young'], y = age_df['Survived']/age_df['PassengerId'], color = 'purple', alpha = 0.5)\n",
    "\n",
    "plt.ylabel('Survival Rate', size = '14')\n",
    "plt.xlabel('Passengers Grouped by Age', size = '14')\n",
    "plt.title('Comparison of Survival Rates by Age', size = '14')\n",
    "\n",
    "topbar = plt.Rectangle((0,0),1,1,fc=\"red\", alpha = 0.2)\n",
    "bottombar = plt.Rectangle((0,0),1,1,fc='purple', alpha = 0.5)\n",
    "legend = plt.legend([topbar, bottombar], ['Total by Age', 'Sruvived by Age'], loc=0, ncol = 2, prop={'size':15})"
   ]
  },
  {
   "cell_type": "markdown",
   "metadata": {
    "deletable": true,
    "editable": true
   },
   "source": [
    "___\n",
    "## Did girls survive more than gentlemen according to the shout in that movie?"
   ]
  },
  {
   "cell_type": "markdown",
   "metadata": {
    "collapsed": true,
    "deletable": true,
    "editable": true
   },
   "source": [
    "Finally, I want to conclude the question that did younger and women survives more than men and older. If so, girls should have a higher survival rate than others. For that, I seperated data set including a new column 'Young or Older' into two groups in terms of their sex."
   ]
  },
  {
   "cell_type": "code",
   "execution_count": 12,
   "metadata": {
    "collapsed": false,
    "deletable": true,
    "editable": true
   },
   "outputs": [
    {
     "data": {
      "text/html": [
       "<div>\n",
       "<table border=\"1\" class=\"dataframe\">\n",
       "  <thead>\n",
       "    <tr style=\"text-align: right;\">\n",
       "      <th></th>\n",
       "      <th>PassengerId</th>\n",
       "      <th>Survived</th>\n",
       "      <th>Pclass</th>\n",
       "      <th>Name</th>\n",
       "      <th>Sex</th>\n",
       "      <th>Age</th>\n",
       "      <th>SibSp</th>\n",
       "      <th>Parch</th>\n",
       "      <th>Ticket</th>\n",
       "      <th>Fare</th>\n",
       "      <th>Cabin</th>\n",
       "      <th>Embarked</th>\n",
       "      <th>Young or Older</th>\n",
       "    </tr>\n",
       "  </thead>\n",
       "  <tbody>\n",
       "    <tr>\n",
       "      <th>1</th>\n",
       "      <td>2</td>\n",
       "      <td>1</td>\n",
       "      <td>1</td>\n",
       "      <td>Cumings, Mrs. John Bradley (Florence Briggs Th...</td>\n",
       "      <td>female</td>\n",
       "      <td>38.0</td>\n",
       "      <td>1</td>\n",
       "      <td>0</td>\n",
       "      <td>PC 17599</td>\n",
       "      <td>71.2833</td>\n",
       "      <td>C85</td>\n",
       "      <td>C</td>\n",
       "      <td>Old</td>\n",
       "    </tr>\n",
       "    <tr>\n",
       "      <th>2</th>\n",
       "      <td>3</td>\n",
       "      <td>1</td>\n",
       "      <td>3</td>\n",
       "      <td>Heikkinen, Miss. Laina</td>\n",
       "      <td>female</td>\n",
       "      <td>26.0</td>\n",
       "      <td>0</td>\n",
       "      <td>0</td>\n",
       "      <td>STON/O2. 3101282</td>\n",
       "      <td>7.9250</td>\n",
       "      <td>NaN</td>\n",
       "      <td>S</td>\n",
       "      <td>Old</td>\n",
       "    </tr>\n",
       "    <tr>\n",
       "      <th>3</th>\n",
       "      <td>4</td>\n",
       "      <td>1</td>\n",
       "      <td>1</td>\n",
       "      <td>Futrelle, Mrs. Jacques Heath (Lily May Peel)</td>\n",
       "      <td>female</td>\n",
       "      <td>35.0</td>\n",
       "      <td>1</td>\n",
       "      <td>0</td>\n",
       "      <td>113803</td>\n",
       "      <td>53.1000</td>\n",
       "      <td>C123</td>\n",
       "      <td>S</td>\n",
       "      <td>Old</td>\n",
       "    </tr>\n",
       "  </tbody>\n",
       "</table>\n",
       "</div>"
      ],
      "text/plain": [
       "   PassengerId  Survived  Pclass  \\\n",
       "1            2         1       1   \n",
       "2            3         1       3   \n",
       "3            4         1       1   \n",
       "\n",
       "                                                Name     Sex   Age  SibSp  \\\n",
       "1  Cumings, Mrs. John Bradley (Florence Briggs Th...  female  38.0      1   \n",
       "2                             Heikkinen, Miss. Laina  female  26.0      0   \n",
       "3       Futrelle, Mrs. Jacques Heath (Lily May Peel)  female  35.0      1   \n",
       "\n",
       "   Parch            Ticket     Fare Cabin Embarked Young or Older  \n",
       "1      0          PC 17599  71.2833   C85        C            Old  \n",
       "2      0  STON/O2. 3101282   7.9250   NaN        S            Old  \n",
       "3      0            113803  53.1000  C123        S            Old  "
      ]
     },
     "execution_count": 12,
     "metadata": {},
     "output_type": "execute_result"
    }
   ],
   "source": [
    "female_df = survived_by_age[survived_by_age['Sex'] == 'female']\n",
    "female_df.head(3)"
   ]
  },
  {
   "cell_type": "code",
   "execution_count": 13,
   "metadata": {
    "collapsed": false,
    "deletable": true,
    "editable": true
   },
   "outputs": [
    {
     "data": {
      "text/html": [
       "<div>\n",
       "<table border=\"1\" class=\"dataframe\">\n",
       "  <thead>\n",
       "    <tr style=\"text-align: right;\">\n",
       "      <th></th>\n",
       "      <th>PassengerId</th>\n",
       "      <th>Survived</th>\n",
       "      <th>Pclass</th>\n",
       "      <th>Name</th>\n",
       "      <th>Sex</th>\n",
       "      <th>Age</th>\n",
       "      <th>SibSp</th>\n",
       "      <th>Parch</th>\n",
       "      <th>Ticket</th>\n",
       "      <th>Fare</th>\n",
       "      <th>Cabin</th>\n",
       "      <th>Embarked</th>\n",
       "      <th>Young or Older</th>\n",
       "    </tr>\n",
       "  </thead>\n",
       "  <tbody>\n",
       "    <tr>\n",
       "      <th>0</th>\n",
       "      <td>1</td>\n",
       "      <td>0</td>\n",
       "      <td>3</td>\n",
       "      <td>Braund, Mr. Owen Harris</td>\n",
       "      <td>male</td>\n",
       "      <td>22.0</td>\n",
       "      <td>1</td>\n",
       "      <td>0</td>\n",
       "      <td>A/5 21171</td>\n",
       "      <td>7.2500</td>\n",
       "      <td>NaN</td>\n",
       "      <td>S</td>\n",
       "      <td>Old</td>\n",
       "    </tr>\n",
       "    <tr>\n",
       "      <th>4</th>\n",
       "      <td>5</td>\n",
       "      <td>0</td>\n",
       "      <td>3</td>\n",
       "      <td>Allen, Mr. William Henry</td>\n",
       "      <td>male</td>\n",
       "      <td>35.0</td>\n",
       "      <td>0</td>\n",
       "      <td>0</td>\n",
       "      <td>373450</td>\n",
       "      <td>8.0500</td>\n",
       "      <td>NaN</td>\n",
       "      <td>S</td>\n",
       "      <td>Old</td>\n",
       "    </tr>\n",
       "    <tr>\n",
       "      <th>6</th>\n",
       "      <td>7</td>\n",
       "      <td>0</td>\n",
       "      <td>1</td>\n",
       "      <td>McCarthy, Mr. Timothy J</td>\n",
       "      <td>male</td>\n",
       "      <td>54.0</td>\n",
       "      <td>0</td>\n",
       "      <td>0</td>\n",
       "      <td>17463</td>\n",
       "      <td>51.8625</td>\n",
       "      <td>E46</td>\n",
       "      <td>S</td>\n",
       "      <td>Old</td>\n",
       "    </tr>\n",
       "  </tbody>\n",
       "</table>\n",
       "</div>"
      ],
      "text/plain": [
       "   PassengerId  Survived  Pclass                      Name   Sex   Age  SibSp  \\\n",
       "0            1         0       3   Braund, Mr. Owen Harris  male  22.0      1   \n",
       "4            5         0       3  Allen, Mr. William Henry  male  35.0      0   \n",
       "6            7         0       1   McCarthy, Mr. Timothy J  male  54.0      0   \n",
       "\n",
       "   Parch     Ticket     Fare Cabin Embarked Young or Older  \n",
       "0      0  A/5 21171   7.2500   NaN        S            Old  \n",
       "4      0     373450   8.0500   NaN        S            Old  \n",
       "6      0      17463  51.8625   E46        S            Old  "
      ]
     },
     "execution_count": 13,
     "metadata": {},
     "output_type": "execute_result"
    }
   ],
   "source": [
    "male_df = survived_by_age[survived_by_age['Sex'] == 'male']\n",
    "male_df.head(3)"
   ]
  },
  {
   "cell_type": "markdown",
   "metadata": {
    "deletable": true,
    "editable": true
   },
   "source": [
    "At first, I got the percentage for the total number of those groups categorized by sex and age."
   ]
  },
  {
   "cell_type": "code",
   "execution_count": 14,
   "metadata": {
    "collapsed": false,
    "deletable": true,
    "editable": true
   },
   "outputs": [
    {
     "data": {
      "text/html": [
       "<div>\n",
       "<table border=\"1\" class=\"dataframe\">\n",
       "  <thead>\n",
       "    <tr style=\"text-align: right;\">\n",
       "      <th></th>\n",
       "      <th>Boy</th>\n",
       "      <th>Gentelmen</th>\n",
       "      <th>Girl</th>\n",
       "      <th>Lady</th>\n",
       "    </tr>\n",
       "  </thead>\n",
       "  <tbody>\n",
       "    <tr>\n",
       "      <th>Rate</th>\n",
       "      <td>0.081232</td>\n",
       "      <td>0.553221</td>\n",
       "      <td>0.077031</td>\n",
       "      <td>0.288515</td>\n",
       "    </tr>\n",
       "  </tbody>\n",
       "</table>\n",
       "</div>"
      ],
      "text/plain": [
       "           Boy  Gentelmen      Girl      Lady\n",
       "Rate  0.081232   0.553221  0.077031  0.288515"
      ]
     },
     "execution_count": 14,
     "metadata": {},
     "output_type": "execute_result"
    }
   ],
   "source": [
    "total_num = male_df['PassengerId'].count() + female_df['PassengerId'].count()\n",
    "total_rate = pd.DataFrame({'Gentelmen': male_df[male_df['Young or Older'] == 'Old']['PassengerId'].count() / total_num,\n",
    "                           'Boy': male_df[male_df['Young or Older'] == 'Young']['PassengerId'].count() / total_num,\n",
    "                           'Girl': female_df[female_df['Young or Older'] == 'Young']['PassengerId'].count() / total_num,\n",
    "                           'Lady': female_df[female_df['Young or Older'] == 'Old']['PassengerId'].count() / total_num},\n",
    "                         index = ['Rate'])\n",
    "\n",
    "total_rate"
   ]
  },
  {
   "cell_type": "code",
   "execution_count": 15,
   "metadata": {
    "collapsed": false,
    "deletable": true,
    "editable": true
   },
   "outputs": [
    {
     "data": {
      "text/plain": [
       "<matplotlib.text.Text at 0x10f2cc550>"
      ]
     },
     "execution_count": 15,
     "metadata": {},
     "output_type": "execute_result"
    },
    {
     "data": {
      "image/png": "[encoded data removed]",
      "text/plain": [
       "<matplotlib.figure.Figure at 0x10eaeeb70>"
      ]
     },
     "metadata": {},
     "output_type": "display_data"
    }
   ],
   "source": [
    "plt.figure(figsize=(10, 10))\n",
    "plt.pie(total_rate.loc['Rate'])\n",
    "plt.legend(['Boy (8.12%)', 'Gentlemen (55.32%)', 'Girl (7.70%)', 'Lady (28.85%)'], loc=\"best\", prop={'size':14})\n",
    "plt.title('Percentage of Passengers Grouped by Sex and Age', size='20')"
   ]
  },
  {
   "cell_type": "markdown",
   "metadata": {
    "deletable": true,
    "editable": true
   },
   "source": [
    "On Titanic, over half of passengers are adult male (55.32%), followed by adult female (28.85%). The passengers who are under 18 are about 16%, boy is 8.12% and girl is 7.70% respectively.\n",
    "\n",
    "Then, I calculated the survival rate for each group by categorizing their age."
   ]
  },
  {
   "cell_type": "code",
   "execution_count": 16,
   "metadata": {
    "collapsed": false,
    "deletable": true,
    "editable": true
   },
   "outputs": [
    {
     "data": {
      "text/html": [
       "<div>\n",
       "<table border=\"1\" class=\"dataframe\">\n",
       "  <thead>\n",
       "    <tr style=\"text-align: right;\">\n",
       "      <th></th>\n",
       "      <th>Boy</th>\n",
       "      <th>Gentlemen</th>\n",
       "      <th>Girl</th>\n",
       "      <th>Lady</th>\n",
       "    </tr>\n",
       "  </thead>\n",
       "  <tbody>\n",
       "    <tr>\n",
       "      <th>Total</th>\n",
       "      <td>1.000000</td>\n",
       "      <td>1.000000</td>\n",
       "      <td>1.000000</td>\n",
       "      <td>1.000000</td>\n",
       "    </tr>\n",
       "    <tr>\n",
       "      <th>Survived</th>\n",
       "      <td>0.396552</td>\n",
       "      <td>0.177215</td>\n",
       "      <td>0.690909</td>\n",
       "      <td>0.771845</td>\n",
       "    </tr>\n",
       "  </tbody>\n",
       "</table>\n",
       "</div>"
      ],
      "text/plain": [
       "               Boy  Gentlemen      Girl      Lady\n",
       "Total     1.000000   1.000000  1.000000  1.000000\n",
       "Survived  0.396552   0.177215  0.690909  0.771845"
      ]
     },
     "execution_count": 16,
     "metadata": {},
     "output_type": "execute_result"
    }
   ],
   "source": [
    "survival_rate_boy = male_df[male_df['Young or Older'] == 'Young']['Survived'].sum() / male_df[male_df['Young or Older'] == 'Young']['PassengerId'].count() # get boy's survival rate\n",
    "survival_rate_gentlemen = male_df[male_df['Young or Older'] == 'Old']['Survived'].sum() / male_df[male_df['Young or Older'] == 'Old']['PassengerId'].count() # get adult men's survival rate\n",
    "#print(survival_rate_boy)\n",
    "#print(survival_rate_gentlemen)\n",
    "\n",
    "survival_rate_girl = female_df[female_df['Young or Older'] == 'Young']['Survived'].sum() / female_df[female_df['Young or Older'] == 'Young']['PassengerId'].count()\n",
    "survival_rate_lady = female_df[female_df['Young or Older'] == 'Old']['Survived'].sum() / female_df[female_df['Young or Older'] == 'Old']['PassengerId'].count()\n",
    "#print(survival_rate_girl)\n",
    "#print(survival_rate_lady)\n",
    "\n",
    "young_adult_df = pd.DataFrame({'Boy': [1, survival_rate_boy],\n",
    "                            'Gentlemen': [1, survival_rate_gentlemen],\n",
    "                            'Girl': [1, survival_rate_girl], \n",
    "                            'Lady': [1, survival_rate_lady]}, \n",
    "                           index = ['Total', 'Survived'])\n",
    "young_adult_df"
   ]
  },
  {
   "cell_type": "code",
   "execution_count": 17,
   "metadata": {
    "collapsed": false,
    "deletable": true,
    "editable": true
   },
   "outputs": [
    {
     "data": {
      "image/png": "[encoded data removed]",
      "text/plain": [
       "<matplotlib.figure.Figure at 0x10f3aa2e8>"
      ]
     },
     "metadata": {},
     "output_type": "display_data"
    }
   ],
   "source": [
    "plt.figure(figsize=(6, 6))\n",
    "plt.xticks(fontsize = 15)\n",
    "plt.yticks(fontsize = 15)\n",
    "\n",
    "top_plot = sns.barplot(x = ['Boy', 'Gentlemen', 'Girl', 'Lady'], y = young_adult_df.iloc[0], color = \"turquoise\", alpha = 0.4)\n",
    "top_plot = sns.barplot(x = ['Boy', 'Gentlemen', 'Girl', 'Lady'], y = young_adult_df.iloc[1], color = \"cornflowerblue\", alpha = 0.5)\n",
    "\n",
    "plt.ylabel('Survival Rate', size = '14')\n",
    "plt.xlabel('Passengers Grouped by Sex and Age', size = '14')\n",
    "plt.title('Comparison of Survival Rates by Age and Sex', size = '14')\n",
    "\n",
    "topbar = plt.Rectangle((0,0),1,1,fc=\"turquoise\", alpha = 1)\n",
    "bottombar = plt.Rectangle((0,0),1,1,fc=\"cornflowerblue\", alpha = 1)\n",
    "legend = plt.legend([topbar, bottombar], ['Total rate by Sex and Age', 'Sruvival rate by Sex and Age'], loc=0, ncol = 1, prop={'size':14})"
   ]
  },
  {
   "cell_type": "markdown",
   "metadata": {
    "deletable": true,
    "editable": true
   },
   "source": [
    "When I compared previously the survival rate of passengers grouped by sex or age, young or female had higher priority to embark save boat than older or male respectively. However, that rule is not the same in the group categorized by their sex and age. Boys have a higher survival rate than adult males, it is larger than twice as many as the gentlemen. On the other hand, though the survival rate for both girls and ladies are entirely higher than male, the survival rate of ladies is little higher than girls, 0.78 and 0.69 respectively."
   ]
  },
  {
   "cell_type": "markdown",
   "metadata": {
    "deletable": true,
    "editable": true
   },
   "source": [
    "# Conclusion\n",
    "\n",
    "It is half true that younger or women survived more than men or older in the actual Titanic disaster, as more young people saved their life than adults only in male group, but not in the female group. More adults survived than young people in the female group.\n",
    "\n",
    "When I analysed this dataset, I found some suspicious data which have multiple cabins but with only one ticket. If that data might imply that passengers have the same name and that their missing ticket data were just concatenated into one, the data should be wrangled appropriately. However, this analysis only deals with passenger IDs and their age and sex (not dealing with cabin information), that suspicious data were not ruled out and those suspicious passengers were just dealt with as a one person. Beside, there is survivor bias in the data set, as the data were collected after the titanic disaster. So, variables (or factors) in the dataset are only depends on survivals at that time. Other possible variables which were for dead people might exist, but we do not know about that exactly.\n",
    "\n",
    "For the future research, I want to look into the detail that 'the cabin class had an influence on the survival rate and the young and female groups'. Also I want to implement hypothesis test (t-test) to compare factors (columns in the dataset) as a further prediction in order to identify which one has the most possibilities to survive in a sinking cruise, dealing with titanic data set as a sample data. "
   ]
  },
  {
   "cell_type": "markdown",
   "metadata": {
    "deletable": true,
    "editable": true
   },
   "source": [
    "<!--\n",
    "Looking briefly the first few rows of the data set, I found that almost passengers have no their cabin data, but some of them occupy multiple cabins though they have one ticket. It is possible that people having the same names in different rooms were recorded and could not be distinguishable who is the person rescued. So they will be rulled out, regardless that they were survived or not.\n",
    "\n",
    "Because the element of multiple cabin are splited by space in plain text, firstly I checked the elements of cabin column have string data type. Then if those are string type, space in a row of Cabin column will be counted to find whether it has multiple values in it.\n",
    "--> \n",
    "<!---\n",
    "if the element in a row of Cabin column are NaN, it will be converted None type object to deal with no value data conveniently for later. Then, , and if the count is larger than 0, the row for that data will be deleted.\n",
    "-->"
   ]
  },
  {
   "cell_type": "markdown",
   "metadata": {
    "collapsed": false,
    "deletable": true,
    "editable": true
   },
   "source": [
    "<!--\n",
    "def check_num_of_cabin(data):\n",
    "    return len(data.split(' ')) if type(data) == str else 0\n",
    "\n",
    "titanic_df['Multiple Cabin'] = titanic_df['Cabin'].apply(check_num_of_cabin)\n",
    "titanic_df = titanic_df[titanic_df['Multiple Cabin'] <= 1]\n",
    "titanic_df.drop('Multiple Cabin', axis=1, inplace=True)\n",
    "titanic_df.head()\n",
    "-->"
   ]
  }
 ],
 "metadata": {
  "anaconda-cloud": {},
  "kernelspec": {
   "display_name": "Python [conda root]",
   "language": "python",
   "name": "conda-root-py"
  },
  "language_info": {
   "codemirror_mode": {
    "name": "ipython",
    "version": 3
   },
   "file_extension": ".py",
   "mimetype": "text/x-python",
   "name": "python",
   "nbconvert_exporter": "python",
   "pygments_lexer": "ipython3",
   "version": "3.5.2"
  }
 },
 "nbformat": 4,
 "nbformat_minor": 2
}
