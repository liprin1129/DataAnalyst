{
 "cells": [
  {
   "cell_type": "code",
   "execution_count": 1,
   "metadata": {},
   "outputs": [],
   "source": [
    "import sys\n",
    "import pickle\n",
    "sys.path.append(\"../tools/\")\n",
    "\n",
    "from feature_format import featureFormat, targetFeatureSplit\n",
    "from tester import dump_classifier_and_data"
   ]
  },
  {
   "cell_type": "markdown",
   "metadata": {},
   "source": []
  },
  {
   "cell_type": "code",
   "execution_count": 2,
   "metadata": {
    "scrolled": true
   },
   "outputs": [],
   "source": [
    "### Task 1: Select what features you'll use.\n",
    "import pandas as pd\n",
    "import numpy as np\n",
    "\n",
    "#fpm = \"final_project_dataset_modified.pkl\" \n",
    "fp = \"final_project_dataset.pkl\"\n",
    "\n",
    "#fpm_df = pickle.load( open(fpm, \"r\"))\n",
    "fp_df = pickle.load( open(fp, \"r\") )\n",
    "\n",
    "### features_list is a list of strings, each of which is a feature name.\n",
    "### The first feature must be \"poi\".\n",
    "#fpm_df = pd.DataFrame(fpm_df)\n",
    "fp_df = pd.DataFrame(fp_df)\n",
    "\n",
    "#print fp_df.head(5)"
   ]
  },
  {
   "cell_type": "markdown",
   "metadata": {},
   "source": [
    "### Transpose\n",
    "\n",
    "Because the rows and columns of dataset are features and samples respectivey, I transposed it to be rows for samples and columns for features. The reason for the transpose is that pandas dataframe provide easy way to extract columns in a dataset using using column's name like *__dataset[variable_name]__* rather than row indice."
   ]
  },
  {
   "cell_type": "code",
   "execution_count": 3,
   "metadata": {
    "scrolled": true
   },
   "outputs": [],
   "source": [
    "fp_df = fp_df.T\n",
    "\n",
    "#features_list = ['poi','salary'] # You will need to use more features"
   ]
  },
  {
   "cell_type": "markdown",
   "metadata": {},
   "source": [
    "### Convert NaN to 0"
   ]
  },
  {
   "cell_type": "markdown",
   "metadata": {},
   "source": [
    "Firstly, convert string type **NaN** value to **np.nan**, so that fillna() function of pandas can work.\n",
    "Before converting, I inspected how many **NaN** values are in each features. I devided those with total length of data to see the proportion inherent in it."
   ]
  },
  {
   "cell_type": "code",
   "execution_count": 4,
   "metadata": {},
   "outputs": [
    {
     "data": {
      "text/plain": [
       "ALLEN PHILLIP K       4175000\n",
       "BADUM JAMES P             NaN\n",
       "BANNANTINE JAMES M        NaN\n",
       "BAXTER JOHN C         1200000\n",
       "BAY FRANKLIN R         400000\n",
       "Name: bonus, dtype: object"
      ]
     },
     "execution_count": 4,
     "metadata": {},
     "output_type": "execute_result"
    }
   ],
   "source": [
    "fp_df.head(5)['bonus']"
   ]
  },
  {
   "cell_type": "markdown",
   "metadata": {},
   "source": [
    "Features having **NaN** more than 0.5 might no be useful? I can know about which value can be a threshold with the rate of person of interest."
   ]
  },
  {
   "cell_type": "markdown",
   "metadata": {},
   "source": [
    "#### NaN in poi"
   ]
  },
  {
   "cell_type": "code",
   "execution_count": 32,
   "metadata": {},
   "outputs": [
    {
     "name": "stdout",
     "output_type": "stream",
     "text": [
      "POI rate:  0.12\n"
     ]
    },
    {
     "data": {
      "text/html": [
       "<div>\n",
       "<style scoped>\n",
       "    .dataframe tbody tr th:only-of-type {\n",
       "        vertical-align: middle;\n",
       "    }\n",
       "\n",
       "    .dataframe tbody tr th {\n",
       "        vertical-align: top;\n",
       "    }\n",
       "\n",
       "    .dataframe thead th {\n",
       "        text-align: right;\n",
       "    }\n",
       "</style>\n",
       "<table border=\"1\" class=\"dataframe\">\n",
       "  <thead>\n",
       "    <tr style=\"text-align: right;\">\n",
       "      <th></th>\n",
       "      <th>poi</th>\n",
       "    </tr>\n",
       "  </thead>\n",
       "  <tbody>\n",
       "    <tr>\n",
       "      <th>bonus</th>\n",
       "      <td>0.111111</td>\n",
       "    </tr>\n",
       "    <tr>\n",
       "      <th>deferral_payments</th>\n",
       "      <td>0.722222</td>\n",
       "    </tr>\n",
       "    <tr>\n",
       "      <th>deferred_income</th>\n",
       "      <td>0.388889</td>\n",
       "    </tr>\n",
       "    <tr>\n",
       "      <th>director_fees</th>\n",
       "      <td>1.000000</td>\n",
       "    </tr>\n",
       "    <tr>\n",
       "      <th>email_address</th>\n",
       "      <td>0.000000</td>\n",
       "    </tr>\n",
       "    <tr>\n",
       "      <th>exercised_stock_options</th>\n",
       "      <td>0.333333</td>\n",
       "    </tr>\n",
       "    <tr>\n",
       "      <th>expenses</th>\n",
       "      <td>0.000000</td>\n",
       "    </tr>\n",
       "    <tr>\n",
       "      <th>from_messages</th>\n",
       "      <td>0.222222</td>\n",
       "    </tr>\n",
       "    <tr>\n",
       "      <th>from_poi_to_this_person</th>\n",
       "      <td>0.222222</td>\n",
       "    </tr>\n",
       "    <tr>\n",
       "      <th>from_this_person_to_poi</th>\n",
       "      <td>0.222222</td>\n",
       "    </tr>\n",
       "    <tr>\n",
       "      <th>loan_advances</th>\n",
       "      <td>0.944444</td>\n",
       "    </tr>\n",
       "    <tr>\n",
       "      <th>long_term_incentive</th>\n",
       "      <td>0.333333</td>\n",
       "    </tr>\n",
       "    <tr>\n",
       "      <th>other</th>\n",
       "      <td>0.000000</td>\n",
       "    </tr>\n",
       "    <tr>\n",
       "      <th>poi</th>\n",
       "      <td>0.000000</td>\n",
       "    </tr>\n",
       "    <tr>\n",
       "      <th>restricted_stock</th>\n",
       "      <td>0.055556</td>\n",
       "    </tr>\n",
       "    <tr>\n",
       "      <th>restricted_stock_deferred</th>\n",
       "      <td>1.000000</td>\n",
       "    </tr>\n",
       "    <tr>\n",
       "      <th>salary</th>\n",
       "      <td>0.055556</td>\n",
       "    </tr>\n",
       "    <tr>\n",
       "      <th>shared_receipt_with_poi</th>\n",
       "      <td>0.222222</td>\n",
       "    </tr>\n",
       "    <tr>\n",
       "      <th>to_messages</th>\n",
       "      <td>0.222222</td>\n",
       "    </tr>\n",
       "    <tr>\n",
       "      <th>total_payments</th>\n",
       "      <td>0.000000</td>\n",
       "    </tr>\n",
       "    <tr>\n",
       "      <th>total_stock_value</th>\n",
       "      <td>0.000000</td>\n",
       "    </tr>\n",
       "  </tbody>\n",
       "</table>\n",
       "</div>"
      ],
      "text/plain": [
       "                                poi\n",
       "bonus                      0.111111\n",
       "deferral_payments          0.722222\n",
       "deferred_income            0.388889\n",
       "director_fees              1.000000\n",
       "email_address              0.000000\n",
       "exercised_stock_options    0.333333\n",
       "expenses                   0.000000\n",
       "from_messages              0.222222\n",
       "from_poi_to_this_person    0.222222\n",
       "from_this_person_to_poi    0.222222\n",
       "loan_advances              0.944444\n",
       "long_term_incentive        0.333333\n",
       "other                      0.000000\n",
       "poi                        0.000000\n",
       "restricted_stock           0.055556\n",
       "restricted_stock_deferred  1.000000\n",
       "salary                     0.055556\n",
       "shared_receipt_with_poi    0.222222\n",
       "to_messages                0.222222\n",
       "total_payments             0.000000\n",
       "total_stock_value          0.000000"
      ]
     },
     "execution_count": 32,
     "metadata": {},
     "output_type": "execute_result"
    }
   ],
   "source": [
    "r_poi = np.sum(fp_df['poi'])/float(len(fp_df))\n",
    "print 'POI rate: ', np.round(r_poi, 2)\n",
    "\n",
    "from tqdm import tqdm\n",
    "\n",
    "def nan_count(data):\n",
    "    c = 0\n",
    "    \n",
    "    for i in data:\n",
    "        if i == 'NaN':\n",
    "            c += 1\n",
    "            \n",
    "    return c\n",
    "\n",
    "poi_nan_count = fp_df[fp_df['poi'] == True].apply(nan_count)\n",
    "\n",
    "nan_df = pd.DataFrame(poi_nan_count/len(fp_df[fp_df['poi'] == True]), \n",
    "                        columns=['poi'])\n",
    "#nan_rate.append(poi_nan_count/len(fp_df[fp_df['poi'] == True]))\n",
    "nan_df"
   ]
  },
  {
   "cell_type": "markdown",
   "metadata": {},
   "source": [
    "#### NaN in non-poi"
   ]
  },
  {
   "cell_type": "code",
   "execution_count": 46,
   "metadata": {},
   "outputs": [
    {
     "name": "stdout",
     "output_type": "stream",
     "text": [
      "POI rate:  0.876712328767\n"
     ]
    },
    {
     "data": {
      "text/html": [
       "<div>\n",
       "<style scoped>\n",
       "    .dataframe tbody tr th:only-of-type {\n",
       "        vertical-align: middle;\n",
       "    }\n",
       "\n",
       "    .dataframe tbody tr th {\n",
       "        vertical-align: top;\n",
       "    }\n",
       "\n",
       "    .dataframe thead th {\n",
       "        text-align: right;\n",
       "    }\n",
       "</style>\n",
       "<table border=\"1\" class=\"dataframe\">\n",
       "  <thead>\n",
       "    <tr style=\"text-align: right;\">\n",
       "      <th></th>\n",
       "      <th>poi</th>\n",
       "      <th>non-poi</th>\n",
       "    </tr>\n",
       "  </thead>\n",
       "  <tbody>\n",
       "    <tr>\n",
       "      <th>bonus</th>\n",
       "      <td>0.111111</td>\n",
       "      <td>0.484375</td>\n",
       "    </tr>\n",
       "    <tr>\n",
       "      <th>deferral_payments</th>\n",
       "      <td>0.722222</td>\n",
       "      <td>0.734375</td>\n",
       "    </tr>\n",
       "    <tr>\n",
       "      <th>deferred_income</th>\n",
       "      <td>0.388889</td>\n",
       "      <td>0.703125</td>\n",
       "    </tr>\n",
       "    <tr>\n",
       "      <th>director_fees</th>\n",
       "      <td>1.000000</td>\n",
       "      <td>0.867188</td>\n",
       "    </tr>\n",
       "    <tr>\n",
       "      <th>email_address</th>\n",
       "      <td>0.000000</td>\n",
       "      <td>0.273438</td>\n",
       "    </tr>\n",
       "    <tr>\n",
       "      <th>exercised_stock_options</th>\n",
       "      <td>0.333333</td>\n",
       "      <td>0.296875</td>\n",
       "    </tr>\n",
       "    <tr>\n",
       "      <th>expenses</th>\n",
       "      <td>0.000000</td>\n",
       "      <td>0.398438</td>\n",
       "    </tr>\n",
       "    <tr>\n",
       "      <th>from_messages</th>\n",
       "      <td>0.222222</td>\n",
       "      <td>0.437500</td>\n",
       "    </tr>\n",
       "    <tr>\n",
       "      <th>from_poi_to_this_person</th>\n",
       "      <td>0.222222</td>\n",
       "      <td>0.437500</td>\n",
       "    </tr>\n",
       "    <tr>\n",
       "      <th>from_this_person_to_poi</th>\n",
       "      <td>0.222222</td>\n",
       "      <td>0.437500</td>\n",
       "    </tr>\n",
       "    <tr>\n",
       "      <th>loan_advances</th>\n",
       "      <td>0.944444</td>\n",
       "      <td>0.976562</td>\n",
       "    </tr>\n",
       "    <tr>\n",
       "      <th>long_term_incentive</th>\n",
       "      <td>0.333333</td>\n",
       "      <td>0.578125</td>\n",
       "    </tr>\n",
       "    <tr>\n",
       "      <th>other</th>\n",
       "      <td>0.000000</td>\n",
       "      <td>0.414062</td>\n",
       "    </tr>\n",
       "    <tr>\n",
       "      <th>poi</th>\n",
       "      <td>0.000000</td>\n",
       "      <td>0.000000</td>\n",
       "    </tr>\n",
       "    <tr>\n",
       "      <th>restricted_stock</th>\n",
       "      <td>0.055556</td>\n",
       "      <td>0.273438</td>\n",
       "    </tr>\n",
       "    <tr>\n",
       "      <th>restricted_stock_deferred</th>\n",
       "      <td>1.000000</td>\n",
       "      <td>0.859375</td>\n",
       "    </tr>\n",
       "    <tr>\n",
       "      <th>salary</th>\n",
       "      <td>0.055556</td>\n",
       "      <td>0.390625</td>\n",
       "    </tr>\n",
       "    <tr>\n",
       "      <th>shared_receipt_with_poi</th>\n",
       "      <td>0.222222</td>\n",
       "      <td>0.437500</td>\n",
       "    </tr>\n",
       "    <tr>\n",
       "      <th>to_messages</th>\n",
       "      <td>0.222222</td>\n",
       "      <td>0.437500</td>\n",
       "    </tr>\n",
       "    <tr>\n",
       "      <th>total_payments</th>\n",
       "      <td>0.000000</td>\n",
       "      <td>0.164062</td>\n",
       "    </tr>\n",
       "    <tr>\n",
       "      <th>total_stock_value</th>\n",
       "      <td>0.000000</td>\n",
       "      <td>0.156250</td>\n",
       "    </tr>\n",
       "  </tbody>\n",
       "</table>\n",
       "</div>"
      ],
      "text/plain": [
       "                                poi   non-poi\n",
       "bonus                      0.111111  0.484375\n",
       "deferral_payments          0.722222  0.734375\n",
       "deferred_income            0.388889  0.703125\n",
       "director_fees              1.000000  0.867188\n",
       "email_address              0.000000  0.273438\n",
       "exercised_stock_options    0.333333  0.296875\n",
       "expenses                   0.000000  0.398438\n",
       "from_messages              0.222222  0.437500\n",
       "from_poi_to_this_person    0.222222  0.437500\n",
       "from_this_person_to_poi    0.222222  0.437500\n",
       "loan_advances              0.944444  0.976562\n",
       "long_term_incentive        0.333333  0.578125\n",
       "other                      0.000000  0.414062\n",
       "poi                        0.000000  0.000000\n",
       "restricted_stock           0.055556  0.273438\n",
       "restricted_stock_deferred  1.000000  0.859375\n",
       "salary                     0.055556  0.390625\n",
       "shared_receipt_with_poi    0.222222  0.437500\n",
       "to_messages                0.222222  0.437500\n",
       "total_payments             0.000000  0.164062\n",
       "total_stock_value          0.000000  0.156250"
      ]
     },
     "execution_count": 46,
     "metadata": {},
     "output_type": "execute_result"
    }
   ],
   "source": [
    "r_poi = (len(fp_df) - np.sum(fp_df['poi']))/float(len(fp_df))\n",
    "print 'POI rate: ', r_poi\n",
    "\n",
    "from tqdm import tqdm\n",
    "\n",
    "def nan_count(data):\n",
    "    c = 0\n",
    "    \n",
    "    for i in data:\n",
    "        if i == 'NaN':\n",
    "            c += 1\n",
    "            \n",
    "    return c\n",
    "\n",
    "non_poi_nan_count = fp_df[fp_df['poi'] != True].apply(nan_count)\n",
    "nan_df.assign(non_poi = \n",
    "              pd.DataFrame(non_poi_nan_count/len(fp_df[fp_df['poi'] != True]), columns=['non-poi']))\n",
    "\n",
    "nan_df"
   ]
  },
  {
   "cell_type": "code",
   "execution_count": 37,
   "metadata": {},
   "outputs": [
    {
     "data": {
      "text/html": [
       "<div>\n",
       "<style scoped>\n",
       "    .dataframe tbody tr th:only-of-type {\n",
       "        vertical-align: middle;\n",
       "    }\n",
       "\n",
       "    .dataframe tbody tr th {\n",
       "        vertical-align: top;\n",
       "    }\n",
       "\n",
       "    .dataframe thead th {\n",
       "        text-align: right;\n",
       "    }\n",
       "</style>\n",
       "<table border=\"1\" class=\"dataframe\">\n",
       "  <thead>\n",
       "    <tr style=\"text-align: right;\">\n",
       "      <th></th>\n",
       "      <th>poi</th>\n",
       "      <th>non-poi</th>\n",
       "    </tr>\n",
       "  </thead>\n",
       "  <tbody>\n",
       "    <tr>\n",
       "      <th>bonus</th>\n",
       "      <td>0.111111</td>\n",
       "      <td>0.484375</td>\n",
       "    </tr>\n",
       "    <tr>\n",
       "      <th>deferral_payments</th>\n",
       "      <td>0.722222</td>\n",
       "      <td>0.734375</td>\n",
       "    </tr>\n",
       "    <tr>\n",
       "      <th>deferred_income</th>\n",
       "      <td>0.388889</td>\n",
       "      <td>0.703125</td>\n",
       "    </tr>\n",
       "    <tr>\n",
       "      <th>director_fees</th>\n",
       "      <td>1.000000</td>\n",
       "      <td>0.867188</td>\n",
       "    </tr>\n",
       "    <tr>\n",
       "      <th>email_address</th>\n",
       "      <td>0.000000</td>\n",
       "      <td>0.273438</td>\n",
       "    </tr>\n",
       "    <tr>\n",
       "      <th>exercised_stock_options</th>\n",
       "      <td>0.333333</td>\n",
       "      <td>0.296875</td>\n",
       "    </tr>\n",
       "    <tr>\n",
       "      <th>expenses</th>\n",
       "      <td>0.000000</td>\n",
       "      <td>0.398438</td>\n",
       "    </tr>\n",
       "    <tr>\n",
       "      <th>from_messages</th>\n",
       "      <td>0.222222</td>\n",
       "      <td>0.437500</td>\n",
       "    </tr>\n",
       "    <tr>\n",
       "      <th>from_poi_to_this_person</th>\n",
       "      <td>0.222222</td>\n",
       "      <td>0.437500</td>\n",
       "    </tr>\n",
       "    <tr>\n",
       "      <th>from_this_person_to_poi</th>\n",
       "      <td>0.222222</td>\n",
       "      <td>0.437500</td>\n",
       "    </tr>\n",
       "    <tr>\n",
       "      <th>loan_advances</th>\n",
       "      <td>0.944444</td>\n",
       "      <td>0.976562</td>\n",
       "    </tr>\n",
       "    <tr>\n",
       "      <th>long_term_incentive</th>\n",
       "      <td>0.333333</td>\n",
       "      <td>0.578125</td>\n",
       "    </tr>\n",
       "    <tr>\n",
       "      <th>other</th>\n",
       "      <td>0.000000</td>\n",
       "      <td>0.414062</td>\n",
       "    </tr>\n",
       "    <tr>\n",
       "      <th>poi</th>\n",
       "      <td>0.000000</td>\n",
       "      <td>0.000000</td>\n",
       "    </tr>\n",
       "    <tr>\n",
       "      <th>restricted_stock</th>\n",
       "      <td>0.055556</td>\n",
       "      <td>0.273438</td>\n",
       "    </tr>\n",
       "    <tr>\n",
       "      <th>restricted_stock_deferred</th>\n",
       "      <td>1.000000</td>\n",
       "      <td>0.859375</td>\n",
       "    </tr>\n",
       "    <tr>\n",
       "      <th>salary</th>\n",
       "      <td>0.055556</td>\n",
       "      <td>0.390625</td>\n",
       "    </tr>\n",
       "    <tr>\n",
       "      <th>shared_receipt_with_poi</th>\n",
       "      <td>0.222222</td>\n",
       "      <td>0.437500</td>\n",
       "    </tr>\n",
       "    <tr>\n",
       "      <th>to_messages</th>\n",
       "      <td>0.222222</td>\n",
       "      <td>0.437500</td>\n",
       "    </tr>\n",
       "    <tr>\n",
       "      <th>total_payments</th>\n",
       "      <td>0.000000</td>\n",
       "      <td>0.164062</td>\n",
       "    </tr>\n",
       "    <tr>\n",
       "      <th>total_stock_value</th>\n",
       "      <td>0.000000</td>\n",
       "      <td>0.156250</td>\n",
       "    </tr>\n",
       "  </tbody>\n",
       "</table>\n",
       "</div>"
      ],
      "text/plain": [
       "                                poi   non-poi\n",
       "bonus                      0.111111  0.484375\n",
       "deferral_payments          0.722222  0.734375\n",
       "deferred_income            0.388889  0.703125\n",
       "director_fees              1.000000  0.867188\n",
       "email_address              0.000000  0.273438\n",
       "exercised_stock_options    0.333333  0.296875\n",
       "expenses                   0.000000  0.398438\n",
       "from_messages              0.222222  0.437500\n",
       "from_poi_to_this_person    0.222222  0.437500\n",
       "from_this_person_to_poi    0.222222  0.437500\n",
       "loan_advances              0.944444  0.976562\n",
       "long_term_incentive        0.333333  0.578125\n",
       "other                      0.000000  0.414062\n",
       "poi                        0.000000  0.000000\n",
       "restricted_stock           0.055556  0.273438\n",
       "restricted_stock_deferred  1.000000  0.859375\n",
       "salary                     0.055556  0.390625\n",
       "shared_receipt_with_poi    0.222222  0.437500\n",
       "to_messages                0.222222  0.437500\n",
       "total_payments             0.000000  0.164062\n",
       "total_stock_value          0.000000  0.156250"
      ]
     },
     "execution_count": 37,
     "metadata": {},
     "output_type": "execute_result"
    }
   ],
   "source": [
    "nan_df = pd.concat([poi_nan_df, non_poi_nan_df], axis=1)\n",
    "nan_df"
   ]
  },
  {
   "cell_type": "code",
   "execution_count": 44,
   "metadata": {},
   "outputs": [
    {
     "data": {
      "text/html": [
       "<div>\n",
       "<style scoped>\n",
       "    .dataframe tbody tr th:only-of-type {\n",
       "        vertical-align: middle;\n",
       "    }\n",
       "\n",
       "    .dataframe tbody tr th {\n",
       "        vertical-align: top;\n",
       "    }\n",
       "\n",
       "    .dataframe thead th {\n",
       "        text-align: right;\n",
       "    }\n",
       "</style>\n",
       "<table border=\"1\" class=\"dataframe\">\n",
       "  <thead>\n",
       "    <tr style=\"text-align: right;\">\n",
       "      <th></th>\n",
       "      <th>poi</th>\n",
       "      <th>poi_nan</th>\n",
       "    </tr>\n",
       "  </thead>\n",
       "  <tbody>\n",
       "    <tr>\n",
       "      <th>bonus</th>\n",
       "      <td>0.111111</td>\n",
       "      <td>0.484375</td>\n",
       "    </tr>\n",
       "    <tr>\n",
       "      <th>deferral_payments</th>\n",
       "      <td>0.722222</td>\n",
       "      <td>0.734375</td>\n",
       "    </tr>\n",
       "    <tr>\n",
       "      <th>deferred_income</th>\n",
       "      <td>0.388889</td>\n",
       "      <td>0.703125</td>\n",
       "    </tr>\n",
       "    <tr>\n",
       "      <th>director_fees</th>\n",
       "      <td>1.000000</td>\n",
       "      <td>0.867188</td>\n",
       "    </tr>\n",
       "    <tr>\n",
       "      <th>email_address</th>\n",
       "      <td>0.000000</td>\n",
       "      <td>0.273438</td>\n",
       "    </tr>\n",
       "    <tr>\n",
       "      <th>exercised_stock_options</th>\n",
       "      <td>0.333333</td>\n",
       "      <td>0.296875</td>\n",
       "    </tr>\n",
       "    <tr>\n",
       "      <th>expenses</th>\n",
       "      <td>0.000000</td>\n",
       "      <td>0.398438</td>\n",
       "    </tr>\n",
       "    <tr>\n",
       "      <th>from_messages</th>\n",
       "      <td>0.222222</td>\n",
       "      <td>0.437500</td>\n",
       "    </tr>\n",
       "    <tr>\n",
       "      <th>from_poi_to_this_person</th>\n",
       "      <td>0.222222</td>\n",
       "      <td>0.437500</td>\n",
       "    </tr>\n",
       "    <tr>\n",
       "      <th>from_this_person_to_poi</th>\n",
       "      <td>0.222222</td>\n",
       "      <td>0.437500</td>\n",
       "    </tr>\n",
       "    <tr>\n",
       "      <th>loan_advances</th>\n",
       "      <td>0.944444</td>\n",
       "      <td>0.976562</td>\n",
       "    </tr>\n",
       "    <tr>\n",
       "      <th>long_term_incentive</th>\n",
       "      <td>0.333333</td>\n",
       "      <td>0.578125</td>\n",
       "    </tr>\n",
       "    <tr>\n",
       "      <th>other</th>\n",
       "      <td>0.000000</td>\n",
       "      <td>0.414062</td>\n",
       "    </tr>\n",
       "    <tr>\n",
       "      <th>poi</th>\n",
       "      <td>0.000000</td>\n",
       "      <td>0.000000</td>\n",
       "    </tr>\n",
       "    <tr>\n",
       "      <th>restricted_stock</th>\n",
       "      <td>0.055556</td>\n",
       "      <td>0.273438</td>\n",
       "    </tr>\n",
       "    <tr>\n",
       "      <th>restricted_stock_deferred</th>\n",
       "      <td>1.000000</td>\n",
       "      <td>0.859375</td>\n",
       "    </tr>\n",
       "    <tr>\n",
       "      <th>salary</th>\n",
       "      <td>0.055556</td>\n",
       "      <td>0.390625</td>\n",
       "    </tr>\n",
       "    <tr>\n",
       "      <th>shared_receipt_with_poi</th>\n",
       "      <td>0.222222</td>\n",
       "      <td>0.437500</td>\n",
       "    </tr>\n",
       "    <tr>\n",
       "      <th>to_messages</th>\n",
       "      <td>0.222222</td>\n",
       "      <td>0.437500</td>\n",
       "    </tr>\n",
       "    <tr>\n",
       "      <th>total_payments</th>\n",
       "      <td>0.000000</td>\n",
       "      <td>0.164062</td>\n",
       "    </tr>\n",
       "    <tr>\n",
       "      <th>total_stock_value</th>\n",
       "      <td>0.000000</td>\n",
       "      <td>0.156250</td>\n",
       "    </tr>\n",
       "  </tbody>\n",
       "</table>\n",
       "</div>"
      ],
      "text/plain": [
       "                                poi   poi_nan\n",
       "bonus                      0.111111  0.484375\n",
       "deferral_payments          0.722222  0.734375\n",
       "deferred_income            0.388889  0.703125\n",
       "director_fees              1.000000  0.867188\n",
       "email_address              0.000000  0.273438\n",
       "exercised_stock_options    0.333333  0.296875\n",
       "expenses                   0.000000  0.398438\n",
       "from_messages              0.222222  0.437500\n",
       "from_poi_to_this_person    0.222222  0.437500\n",
       "from_this_person_to_poi    0.222222  0.437500\n",
       "loan_advances              0.944444  0.976562\n",
       "long_term_incentive        0.333333  0.578125\n",
       "other                      0.000000  0.414062\n",
       "poi                        0.000000  0.000000\n",
       "restricted_stock           0.055556  0.273438\n",
       "restricted_stock_deferred  1.000000  0.859375\n",
       "salary                     0.055556  0.390625\n",
       "shared_receipt_with_poi    0.222222  0.437500\n",
       "to_messages                0.222222  0.437500\n",
       "total_payments             0.000000  0.164062\n",
       "total_stock_value          0.000000  0.156250"
      ]
     },
     "execution_count": 44,
     "metadata": {},
     "output_type": "execute_result"
    }
   ],
   "source": [
    "poi_nan_df.assign(poi_nan = non_poi_nan_df)"
   ]
  },
  {
   "cell_type": "markdown",
   "metadata": {},
   "source": [
    "#### Check 0 value in features\n",
    "\n",
    "Before coverting **NaN** to 0, I have to check the converting would effect each variables or the whole dataset."
   ]
  },
  {
   "cell_type": "markdown",
   "metadata": {},
   "source": [
    "#### 0 in poi"
   ]
  },
  {
   "cell_type": "code",
   "execution_count": null,
   "metadata": {},
   "outputs": [],
   "source": [
    "r_poi = np.sum(fp_df['poi'])/float(len(fp_df))\n",
    "print 'POI rate: ', np.round(r_poi, 2)\n",
    "\n",
    "from tqdm import tqdm\n",
    "\n",
    "def nan_count(data):\n",
    "    c = 0\n",
    "    \n",
    "    for i in data:\n",
    "        if i == 0:\n",
    "            c += 1\n",
    "            \n",
    "    return c\n",
    "\n",
    "feature_nan_count = fp_df[fp_df['poi'] == True].apply(nan_count)\n",
    "feature_nan_count/len(fp_df[fp_df['poi'] == True])"
   ]
  },
  {
   "cell_type": "markdown",
   "metadata": {},
   "source": [
    "#### 0 in non-poi"
   ]
  },
  {
   "cell_type": "code",
   "execution_count": null,
   "metadata": {},
   "outputs": [],
   "source": [
    "r_poi = (len(fp_df) - np.sum(fp_df['poi']))/float(len(fp_df))\n",
    "print 'POI rate: ', r_poi\n",
    "\n",
    "from tqdm import tqdm\n",
    "\n",
    "def nan_count(data):\n",
    "    c = 0\n",
    "    \n",
    "    for i in data:\n",
    "        if i == 0:\n",
    "            c += 1\n",
    "            \n",
    "    return c\n",
    "\n",
    "feature_nan_count = fp_df[fp_df['poi'] != True].apply(nan_count)\n",
    "feature_nan_count/len(fp_df[fp_df['poi'] != True])"
   ]
  },
  {
   "cell_type": "raw",
   "metadata": {},
   "source": [
    "fp_df[fp_df['poi'] == True]"
   ]
  },
  {
   "cell_type": "raw",
   "metadata": {},
   "source": [
    "fp_df[fp_df['poi'] != True]"
   ]
  },
  {
   "cell_type": "markdown",
   "metadata": {},
   "source": [
    "Convert np.nan value to 0"
   ]
  },
  {
   "cell_type": "code",
   "execution_count": null,
   "metadata": {},
   "outputs": [],
   "source": [
    "fp_df = fp_df.applymap(lambda x: np.nan if x == 'NaN' else x)\n",
    "#fp_df.head()"
   ]
  },
  {
   "cell_type": "code",
   "execution_count": null,
   "metadata": {},
   "outputs": [],
   "source": [
    "fp_df.fillna(0, inplace=True)\n",
    "fp_df.isnull().values.any()\n",
    "fp_df.head()"
   ]
  },
  {
   "cell_type": "code",
   "execution_count": null,
   "metadata": {},
   "outputs": [],
   "source": [
    "features = fp_df.keys()\n",
    "features = features.drop('email_address')\n",
    "values = fp_df.values\n",
    "\n",
    "#values\n",
    "#features"
   ]
  },
  {
   "cell_type": "markdown",
   "metadata": {},
   "source": [
    "### Remove Outlier"
   ]
  },
  {
   "cell_type": "code",
   "execution_count": null,
   "metadata": {},
   "outputs": [],
   "source": [
    "import matplotlib.pyplot as plt\n",
    "%matplotlib inline\n",
    "\n",
    "fig, ax = plt.subplots(4, 5, figsize = (15, 10))\n",
    "\n",
    "for i in xrange(4):\n",
    "    for j in xrange(5):\n",
    "        ax[i, j].hist(fp_df[features[i*5+j]])\n",
    "        #ax[i, j].plot(x, y_25th, x, y_75th)\n",
    "        ax[i, j].set_title(features[i*5+j])"
   ]
  },
  {
   "cell_type": "code",
   "execution_count": null,
   "metadata": {},
   "outputs": [],
   "source": [
    "fig, ax = plt.subplots(4, 5, figsize = (15, 20))\n",
    "\n",
    "for i in xrange(4):\n",
    "    for j in xrange(5):\n",
    "    \n",
    "        x = np.linspace(0, 2, len(fp_df[features[i*5+j]]))\n",
    "        ax[i, j].scatter(x, fp_df[features[i*5+j]], s = 3)"
   ]
  },
  {
   "cell_type": "code",
   "execution_count": null,
   "metadata": {},
   "outputs": [],
   "source": [
    "fig, ax = plt.subplots(4, 5, figsize = (15, 20))\n",
    "\n",
    "for i in xrange(4):\n",
    "    for j in xrange(5):\n",
    "        \n",
    "        #print i*5+j\n",
    "        #print features[i*5+j]\n",
    "\n",
    "        per_25th = np.percentile(fp_df[features[i*5+j]], 25)\n",
    "        per_75th = np.percentile(fp_df[features[i*5+j]], 75)\n",
    "\n",
    "        x = np.linspace(0, 2, 100)\n",
    "        y_25th = np.ones(100) * per_25th\n",
    "        y_75th = np.ones(100) * per_75th\n",
    "        \n",
    "        ax[i, j].boxplot(fp_df[features[i*5+j]])\n",
    "        ax[i, j].plot(x, y_25th, x, y_75th)\n",
    "        ax[i, j].set_title(features[i*5+j])"
   ]
  },
  {
   "cell_type": "code",
   "execution_count": null,
   "metadata": {},
   "outputs": [],
   "source": [
    "features"
   ]
  },
  {
   "cell_type": "code",
   "execution_count": null,
   "metadata": {},
   "outputs": [],
   "source": [
    "values = fp_df['director_fees'].values\n",
    "#u = np.percentile(values, 25)\n",
    "d = np.percentile(values, 95)\n",
    "\n",
    "x = np.linspace(0, 2, len(values))\n",
    "\n",
    "#print u, d\n",
    "print d\n",
    "#plt.scatter(x, values, s = 3)\n",
    "\n",
    "values = values[values < d]\n",
    "x = np.linspace(0, 2, len(values))\n",
    "plt.scatter(x, values, s = 3)"
   ]
  },
  {
   "cell_type": "code",
   "execution_count": null,
   "metadata": {},
   "outputs": [],
   "source": [
    "fig, ax = plt.subplots(4, 5, figsize = (15, 20))\n",
    "\n",
    "for i in xrange(4):\n",
    "    for j in xrange(5):\n",
    "        per_25th = np.percentile(fp_df[features[i*5+j]], 25)\n",
    "        per_75th = np.percentile(fp_df[features[i*5+j]], 75)\n",
    "        \n",
    "        values = fp_df['bonus'].values\n",
    "        values = values[values > per_25th]\n",
    "        values = values[values < per_75th]\n",
    "        '''\n",
    "        x = np.linspace(0, 2, 100)\n",
    "        y_25th = np.ones(100) * per_25th\n",
    "        y_75th = np.ones(100) * per_75th\n",
    "        '''\n",
    "        #ax[i, j].boxplot(values)\n",
    "        ax[i, j].hist(values)\n",
    "        #ax[i, j].plot(x, y_25th, x, y_75th)\n",
    "        #ax[i, j].set_title(features[i*5+j])"
   ]
  },
  {
   "cell_type": "raw",
   "metadata": {},
   "source": [
    "per_25th = np.percentile(fp_df['bonus'], 25)\n",
    "per_75th = np.percentile(fp_df['bonus'], 75)"
   ]
  },
  {
   "cell_type": "raw",
   "metadata": {},
   "source": [
    "x = np.linspace(0, 2, 100)\n",
    "y_25th = np.ones(100) * per_25th\n",
    "y_75th = np.ones(100) * per_75th"
   ]
  },
  {
   "cell_type": "raw",
   "metadata": {},
   "source": [
    "import matplotlib.pyplot as plt\n",
    "%matplotlib inline\n",
    "\n",
    "plt.boxplot(fp_df['bonus'])\n",
    "plt.plot(x, y_25th, x, y_75th)"
   ]
  },
  {
   "cell_type": "raw",
   "metadata": {},
   "source": [
    "fp_df['bonus'].quantile(0.5)"
   ]
  },
  {
   "cell_type": "raw",
   "metadata": {},
   "source": [
    "print np.max(fp_df['bonus'])\n",
    "test = fp_df[fp_df['bonus'] < fp_df['bonus'].quantile(0.7)]"
   ]
  },
  {
   "cell_type": "raw",
   "metadata": {},
   "source": [
    "plt.boxplot(test['bonus'])"
   ]
  },
  {
   "cell_type": "markdown",
   "metadata": {},
   "source": []
  },
  {
   "cell_type": "markdown",
   "metadata": {},
   "source": []
  },
  {
   "cell_type": "markdown",
   "metadata": {},
   "source": []
  },
  {
   "cell_type": "markdown",
   "metadata": {},
   "source": []
  },
  {
   "cell_type": "markdown",
   "metadata": {},
   "source": []
  },
  {
   "cell_type": "markdown",
   "metadata": {},
   "source": []
  },
  {
   "cell_type": "markdown",
   "metadata": {},
   "source": [
    "# Scaling"
   ]
  },
  {
   "cell_type": "code",
   "execution_count": null,
   "metadata": {},
   "outputs": [],
   "source": [
    "from sklearn.preprocessing import MinMaxScaler\n",
    "import numpy as np\n",
    "\n",
    "sclr = MinMaxScaler(feature_range=(0, 1))"
   ]
  },
  {
   "cell_type": "markdown",
   "metadata": {},
   "source": [
    "Scaling to have range from 0 to 1, expect email_address variable"
   ]
  },
  {
   "cell_type": "code",
   "execution_count": null,
   "metadata": {},
   "outputs": [],
   "source": [
    "scaled_value = sclr.fit_transform(fp_df[features.drop('email_address')])\n",
    "#rescaled_value = sclr.fit_transform(fp_df[features.drop('email_address')])"
   ]
  },
  {
   "cell_type": "code",
   "execution_count": null,
   "metadata": {},
   "outputs": [],
   "source": [
    "scaled_value"
   ]
  },
  {
   "cell_type": "markdown",
   "metadata": {},
   "source": [
    "# References\n",
    "\n",
    "http://scikit-learn.org/stable/auto_examples/classification/plot_classifier_comparison.html"
   ]
  }
 ],
 "metadata": {
  "kernelspec": {
   "display_name": "Python 2",
   "language": "python",
   "name": "python2"
  },
  "language_info": {
   "codemirror_mode": {
    "name": "ipython",
    "version": 2
   },
   "file_extension": ".py",
   "mimetype": "text/x-python",
   "name": "python",
   "nbconvert_exporter": "python",
   "pygments_lexer": "ipython2",
   "version": "2.7.10"
  }
 },
 "nbformat": 4,
 "nbformat_minor": 2
}
