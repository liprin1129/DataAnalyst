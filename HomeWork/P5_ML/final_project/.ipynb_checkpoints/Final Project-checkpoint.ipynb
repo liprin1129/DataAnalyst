{
 "cells": [
  {
   "cell_type": "code",
   "execution_count": 1,
   "metadata": {},
   "outputs": [],
   "source": [
    "import sys\n",
    "import pickle\n",
    "sys.path.append(\"../tools/\")\n",
    "\n",
    "from feature_format import featureFormat, targetFeatureSplit\n",
    "from tester import dump_classifier_and_data"
   ]
  },
  {
   "cell_type": "code",
   "execution_count": 2,
   "metadata": {
    "scrolled": true
   },
   "outputs": [],
   "source": [
    "### Task 1: Select what features you'll use.\n",
    "import pandas as pd\n",
    "import numpy as np\n",
    "\n",
    "#fpm = \"final_project_dataset_modified.pkl\" \n",
    "fp = \"final_project_dataset.pkl\"\n",
    "\n",
    "#fpm_df = pickle.load( open(fpm, \"r\"))\n",
    "fp_df = pickle.load( open(fp, \"r\") )\n",
    "\n",
    "### features_list is a list of strings, each of which is a feature name.\n",
    "### The first feature must be \"poi\".\n",
    "#fpm_df = pd.DataFrame(fpm_df)\n",
    "fp_df = pd.DataFrame(fp_df)\n",
    "\n",
    "#print fp_df.head(5)"
   ]
  },
  {
   "cell_type": "markdown",
   "metadata": {},
   "source": [
    "### Transpose\n",
    "\n",
    "Because the rows and columns of dataset are features and samples respectivey, I transposed it to be rows for samples and columns for features. The reason for the transpose is that pandas dataframe provide easy way to extract columns in a dataset using using column's name like *__dataset[variable_name]__* rather than row indice."
   ]
  },
  {
   "cell_type": "code",
   "execution_count": 3,
   "metadata": {
    "scrolled": true
   },
   "outputs": [],
   "source": [
    "fp_df = fp_df.T\n",
    "\n",
    "#features_list = ['poi','salary'] # You will need to use more features"
   ]
  },
  {
   "cell_type": "markdown",
   "metadata": {},
   "source": [
    "### Convert NaN to 0"
   ]
  },
  {
   "cell_type": "markdown",
   "metadata": {},
   "source": [
    "Firstly, convert string type **NaN** value to **np.nan**, so that fillna() function of pandas can work.\n",
    "Before converting, I inspected how many **NaN** values are in each features. I devided those with total length of data to see the proportion inherent in it."
   ]
  },
  {
   "cell_type": "code",
   "execution_count": 4,
   "metadata": {},
   "outputs": [
    {
     "data": {
      "text/plain": [
       "ALLEN PHILLIP K       4175000\n",
       "BADUM JAMES P             NaN\n",
       "BANNANTINE JAMES M        NaN\n",
       "BAXTER JOHN C         1200000\n",
       "BAY FRANKLIN R         400000\n",
       "Name: bonus, dtype: object"
      ]
     },
     "execution_count": 4,
     "metadata": {},
     "output_type": "execute_result"
    }
   ],
   "source": [
    "fp_df.head(5)['bonus']"
   ]
  },
  {
   "cell_type": "markdown",
   "metadata": {},
   "source": [
    "Features having **NaN** more than 0.5 might no be useful? I can know about which value can be a threshold with the rate of person of interest."
   ]
  },
  {
   "cell_type": "markdown",
   "metadata": {},
   "source": [
    "#### NaN in poi"
   ]
  },
  {
   "cell_type": "code",
   "execution_count": 5,
   "metadata": {},
   "outputs": [
    {
     "name": "stdout",
     "output_type": "stream",
     "text": [
      "POI rate:  0.12\n"
     ]
    },
    {
     "data": {
      "text/html": [
       "<div>\n",
       "<style scoped>\n",
       "    .dataframe tbody tr th:only-of-type {\n",
       "        vertical-align: middle;\n",
       "    }\n",
       "\n",
       "    .dataframe tbody tr th {\n",
       "        vertical-align: top;\n",
       "    }\n",
       "\n",
       "    .dataframe thead th {\n",
       "        text-align: right;\n",
       "    }\n",
       "</style>\n",
       "<table border=\"1\" class=\"dataframe\">\n",
       "  <thead>\n",
       "    <tr style=\"text-align: right;\">\n",
       "      <th></th>\n",
       "      <th>NaN_poi</th>\n",
       "    </tr>\n",
       "  </thead>\n",
       "  <tbody>\n",
       "    <tr>\n",
       "      <th>bonus</th>\n",
       "      <td>0.11</td>\n",
       "    </tr>\n",
       "    <tr>\n",
       "      <th>deferral_payments</th>\n",
       "      <td>0.72</td>\n",
       "    </tr>\n",
       "    <tr>\n",
       "      <th>deferred_income</th>\n",
       "      <td>0.39</td>\n",
       "    </tr>\n",
       "    <tr>\n",
       "      <th>director_fees</th>\n",
       "      <td>1.00</td>\n",
       "    </tr>\n",
       "    <tr>\n",
       "      <th>email_address</th>\n",
       "      <td>0.00</td>\n",
       "    </tr>\n",
       "    <tr>\n",
       "      <th>exercised_stock_options</th>\n",
       "      <td>0.33</td>\n",
       "    </tr>\n",
       "    <tr>\n",
       "      <th>expenses</th>\n",
       "      <td>0.00</td>\n",
       "    </tr>\n",
       "    <tr>\n",
       "      <th>from_messages</th>\n",
       "      <td>0.22</td>\n",
       "    </tr>\n",
       "    <tr>\n",
       "      <th>from_poi_to_this_person</th>\n",
       "      <td>0.22</td>\n",
       "    </tr>\n",
       "    <tr>\n",
       "      <th>from_this_person_to_poi</th>\n",
       "      <td>0.22</td>\n",
       "    </tr>\n",
       "    <tr>\n",
       "      <th>loan_advances</th>\n",
       "      <td>0.94</td>\n",
       "    </tr>\n",
       "    <tr>\n",
       "      <th>long_term_incentive</th>\n",
       "      <td>0.33</td>\n",
       "    </tr>\n",
       "    <tr>\n",
       "      <th>other</th>\n",
       "      <td>0.00</td>\n",
       "    </tr>\n",
       "    <tr>\n",
       "      <th>poi</th>\n",
       "      <td>0.00</td>\n",
       "    </tr>\n",
       "    <tr>\n",
       "      <th>restricted_stock</th>\n",
       "      <td>0.06</td>\n",
       "    </tr>\n",
       "    <tr>\n",
       "      <th>restricted_stock_deferred</th>\n",
       "      <td>1.00</td>\n",
       "    </tr>\n",
       "    <tr>\n",
       "      <th>salary</th>\n",
       "      <td>0.06</td>\n",
       "    </tr>\n",
       "    <tr>\n",
       "      <th>shared_receipt_with_poi</th>\n",
       "      <td>0.22</td>\n",
       "    </tr>\n",
       "    <tr>\n",
       "      <th>to_messages</th>\n",
       "      <td>0.22</td>\n",
       "    </tr>\n",
       "    <tr>\n",
       "      <th>total_payments</th>\n",
       "      <td>0.00</td>\n",
       "    </tr>\n",
       "    <tr>\n",
       "      <th>total_stock_value</th>\n",
       "      <td>0.00</td>\n",
       "    </tr>\n",
       "  </tbody>\n",
       "</table>\n",
       "</div>"
      ],
      "text/plain": [
       "                           NaN_poi\n",
       "bonus                         0.11\n",
       "deferral_payments             0.72\n",
       "deferred_income               0.39\n",
       "director_fees                 1.00\n",
       "email_address                 0.00\n",
       "exercised_stock_options       0.33\n",
       "expenses                      0.00\n",
       "from_messages                 0.22\n",
       "from_poi_to_this_person       0.22\n",
       "from_this_person_to_poi       0.22\n",
       "loan_advances                 0.94\n",
       "long_term_incentive           0.33\n",
       "other                         0.00\n",
       "poi                           0.00\n",
       "restricted_stock              0.06\n",
       "restricted_stock_deferred     1.00\n",
       "salary                        0.06\n",
       "shared_receipt_with_poi       0.22\n",
       "to_messages                   0.22\n",
       "total_payments                0.00\n",
       "total_stock_value             0.00"
      ]
     },
     "execution_count": 5,
     "metadata": {},
     "output_type": "execute_result"
    }
   ],
   "source": [
    "r_poi = np.sum(fp_df['poi'])/float(len(fp_df))\n",
    "print 'POI rate: ', np.round(r_poi, 2)\n",
    "\n",
    "from tqdm import tqdm\n",
    "\n",
    "def nan_count(data):\n",
    "    c = 0\n",
    "    \n",
    "    for i in data:\n",
    "        if i == 'NaN':\n",
    "            c += 1\n",
    "            \n",
    "    return c\n",
    "\n",
    "poi_nan_count = fp_df[fp_df['poi'] == True].apply(nan_count)\n",
    "\n",
    "nan_df = pd.DataFrame(np.round(poi_nan_count/len(fp_df[fp_df['poi'] == True]), 2), \n",
    "                        columns=['NaN_poi'])\n",
    "#nan_rate.append(poi_nan_count/len(fp_df[fp_df['poi'] == True]))\n",
    "nan_df"
   ]
  },
  {
   "cell_type": "markdown",
   "metadata": {},
   "source": [
    "#### NaN in non-poi"
   ]
  },
  {
   "cell_type": "code",
   "execution_count": 6,
   "metadata": {},
   "outputs": [
    {
     "name": "stdout",
     "output_type": "stream",
     "text": [
      "Non POI rate:  0.876712328767\n"
     ]
    },
    {
     "data": {
      "text/html": [
       "<div>\n",
       "<style scoped>\n",
       "    .dataframe tbody tr th:only-of-type {\n",
       "        vertical-align: middle;\n",
       "    }\n",
       "\n",
       "    .dataframe tbody tr th {\n",
       "        vertical-align: top;\n",
       "    }\n",
       "\n",
       "    .dataframe thead th {\n",
       "        text-align: right;\n",
       "    }\n",
       "</style>\n",
       "<table border=\"1\" class=\"dataframe\">\n",
       "  <thead>\n",
       "    <tr style=\"text-align: right;\">\n",
       "      <th></th>\n",
       "      <th>NaN_poi</th>\n",
       "      <th>NaN_non_poi</th>\n",
       "    </tr>\n",
       "  </thead>\n",
       "  <tbody>\n",
       "    <tr>\n",
       "      <th>bonus</th>\n",
       "      <td>0.11</td>\n",
       "      <td>0.48</td>\n",
       "    </tr>\n",
       "    <tr>\n",
       "      <th>deferral_payments</th>\n",
       "      <td>0.72</td>\n",
       "      <td>0.73</td>\n",
       "    </tr>\n",
       "    <tr>\n",
       "      <th>deferred_income</th>\n",
       "      <td>0.39</td>\n",
       "      <td>0.70</td>\n",
       "    </tr>\n",
       "    <tr>\n",
       "      <th>director_fees</th>\n",
       "      <td>1.00</td>\n",
       "      <td>0.87</td>\n",
       "    </tr>\n",
       "    <tr>\n",
       "      <th>email_address</th>\n",
       "      <td>0.00</td>\n",
       "      <td>0.27</td>\n",
       "    </tr>\n",
       "    <tr>\n",
       "      <th>exercised_stock_options</th>\n",
       "      <td>0.33</td>\n",
       "      <td>0.30</td>\n",
       "    </tr>\n",
       "    <tr>\n",
       "      <th>expenses</th>\n",
       "      <td>0.00</td>\n",
       "      <td>0.40</td>\n",
       "    </tr>\n",
       "    <tr>\n",
       "      <th>from_messages</th>\n",
       "      <td>0.22</td>\n",
       "      <td>0.44</td>\n",
       "    </tr>\n",
       "    <tr>\n",
       "      <th>from_poi_to_this_person</th>\n",
       "      <td>0.22</td>\n",
       "      <td>0.44</td>\n",
       "    </tr>\n",
       "    <tr>\n",
       "      <th>from_this_person_to_poi</th>\n",
       "      <td>0.22</td>\n",
       "      <td>0.44</td>\n",
       "    </tr>\n",
       "    <tr>\n",
       "      <th>loan_advances</th>\n",
       "      <td>0.94</td>\n",
       "      <td>0.98</td>\n",
       "    </tr>\n",
       "    <tr>\n",
       "      <th>long_term_incentive</th>\n",
       "      <td>0.33</td>\n",
       "      <td>0.58</td>\n",
       "    </tr>\n",
       "    <tr>\n",
       "      <th>other</th>\n",
       "      <td>0.00</td>\n",
       "      <td>0.41</td>\n",
       "    </tr>\n",
       "    <tr>\n",
       "      <th>poi</th>\n",
       "      <td>0.00</td>\n",
       "      <td>0.00</td>\n",
       "    </tr>\n",
       "    <tr>\n",
       "      <th>restricted_stock</th>\n",
       "      <td>0.06</td>\n",
       "      <td>0.27</td>\n",
       "    </tr>\n",
       "    <tr>\n",
       "      <th>restricted_stock_deferred</th>\n",
       "      <td>1.00</td>\n",
       "      <td>0.86</td>\n",
       "    </tr>\n",
       "    <tr>\n",
       "      <th>salary</th>\n",
       "      <td>0.06</td>\n",
       "      <td>0.39</td>\n",
       "    </tr>\n",
       "    <tr>\n",
       "      <th>shared_receipt_with_poi</th>\n",
       "      <td>0.22</td>\n",
       "      <td>0.44</td>\n",
       "    </tr>\n",
       "    <tr>\n",
       "      <th>to_messages</th>\n",
       "      <td>0.22</td>\n",
       "      <td>0.44</td>\n",
       "    </tr>\n",
       "    <tr>\n",
       "      <th>total_payments</th>\n",
       "      <td>0.00</td>\n",
       "      <td>0.16</td>\n",
       "    </tr>\n",
       "    <tr>\n",
       "      <th>total_stock_value</th>\n",
       "      <td>0.00</td>\n",
       "      <td>0.16</td>\n",
       "    </tr>\n",
       "  </tbody>\n",
       "</table>\n",
       "</div>"
      ],
      "text/plain": [
       "                           NaN_poi  NaN_non_poi\n",
       "bonus                         0.11         0.48\n",
       "deferral_payments             0.72         0.73\n",
       "deferred_income               0.39         0.70\n",
       "director_fees                 1.00         0.87\n",
       "email_address                 0.00         0.27\n",
       "exercised_stock_options       0.33         0.30\n",
       "expenses                      0.00         0.40\n",
       "from_messages                 0.22         0.44\n",
       "from_poi_to_this_person       0.22         0.44\n",
       "from_this_person_to_poi       0.22         0.44\n",
       "loan_advances                 0.94         0.98\n",
       "long_term_incentive           0.33         0.58\n",
       "other                         0.00         0.41\n",
       "poi                           0.00         0.00\n",
       "restricted_stock              0.06         0.27\n",
       "restricted_stock_deferred     1.00         0.86\n",
       "salary                        0.06         0.39\n",
       "shared_receipt_with_poi       0.22         0.44\n",
       "to_messages                   0.22         0.44\n",
       "total_payments                0.00         0.16\n",
       "total_stock_value             0.00         0.16"
      ]
     },
     "execution_count": 6,
     "metadata": {},
     "output_type": "execute_result"
    }
   ],
   "source": [
    "r_poi = (len(fp_df) - np.sum(fp_df['poi']))/float(len(fp_df))\n",
    "print 'Non POI rate: ', r_poi\n",
    "\n",
    "from tqdm import tqdm\n",
    "\n",
    "def nan_count(data):\n",
    "    c = 0\n",
    "    \n",
    "    for i in data:\n",
    "        if i == 'NaN':\n",
    "            c += 1\n",
    "            \n",
    "    return c\n",
    "\n",
    "non_poi_nan_count = fp_df[fp_df['poi'] != True].apply(nan_count)\n",
    "nan_df = nan_df.assign(NaN_non_poi = \n",
    "                       pd.DataFrame(np.round(non_poi_nan_count/len(fp_df[fp_df['poi'] != True]), 2), \n",
    "                                    columns=['non-poi nan']))\n",
    "\n",
    "nan_df"
   ]
  },
  {
   "cell_type": "raw",
   "metadata": {},
   "source": [
    "nan_df = pd.concat([poi_nan_df, non_poi_nan_df], axis=1)\n",
    "nan_df"
   ]
  },
  {
   "cell_type": "raw",
   "metadata": {},
   "source": [
    "poi_nan_df.assign(poi_nan = non_poi_nan_df)"
   ]
  },
  {
   "cell_type": "markdown",
   "metadata": {},
   "source": [
    "#### Check 0 value in features\n",
    "\n",
    "Before coverting **NaN** to 0, I have to check the converting would effect each variables or the whole dataset."
   ]
  },
  {
   "cell_type": "markdown",
   "metadata": {},
   "source": [
    "#### 0 in poi"
   ]
  },
  {
   "cell_type": "code",
   "execution_count": 7,
   "metadata": {},
   "outputs": [
    {
     "name": "stdout",
     "output_type": "stream",
     "text": [
      "POI rate:  0.12\n"
     ]
    }
   ],
   "source": [
    "r_poi = np.sum(fp_df['poi'])/float(len(fp_df))\n",
    "print 'POI rate: ', np.round(r_poi, 2)\n",
    "\n",
    "from tqdm import tqdm\n",
    "\n",
    "def nan_count(data):\n",
    "    c = 0\n",
    "    \n",
    "    for i in data:\n",
    "        if i == 0:\n",
    "            c += 1\n",
    "            \n",
    "    return c\n",
    "\n",
    "feature_nan_count = fp_df[fp_df['poi'] == True].apply(nan_count)\n",
    "nan_df = nan_df.assign(Zero_poi = \n",
    "                       pd.DataFrame(np.round(\n",
    "                           feature_nan_count/len(fp_df[fp_df['poi'] == True]), 2)))"
   ]
  },
  {
   "cell_type": "markdown",
   "metadata": {},
   "source": [
    "#### 0 in non-poi"
   ]
  },
  {
   "cell_type": "code",
   "execution_count": 8,
   "metadata": {},
   "outputs": [
    {
     "name": "stdout",
     "output_type": "stream",
     "text": [
      "POI rate:  0.876712328767\n"
     ]
    },
    {
     "data": {
      "text/html": [
       "<div>\n",
       "<style scoped>\n",
       "    .dataframe tbody tr th:only-of-type {\n",
       "        vertical-align: middle;\n",
       "    }\n",
       "\n",
       "    .dataframe tbody tr th {\n",
       "        vertical-align: top;\n",
       "    }\n",
       "\n",
       "    .dataframe thead th {\n",
       "        text-align: right;\n",
       "    }\n",
       "</style>\n",
       "<table border=\"1\" class=\"dataframe\">\n",
       "  <thead>\n",
       "    <tr style=\"text-align: right;\">\n",
       "      <th></th>\n",
       "      <th>NaN_poi</th>\n",
       "      <th>NaN_non_poi</th>\n",
       "      <th>Zero_poi</th>\n",
       "      <th>Zero_non_poi</th>\n",
       "    </tr>\n",
       "  </thead>\n",
       "  <tbody>\n",
       "    <tr>\n",
       "      <th>bonus</th>\n",
       "      <td>0.11</td>\n",
       "      <td>0.48</td>\n",
       "      <td>0.0</td>\n",
       "      <td>0.00</td>\n",
       "    </tr>\n",
       "    <tr>\n",
       "      <th>deferral_payments</th>\n",
       "      <td>0.72</td>\n",
       "      <td>0.73</td>\n",
       "      <td>0.0</td>\n",
       "      <td>0.00</td>\n",
       "    </tr>\n",
       "    <tr>\n",
       "      <th>deferred_income</th>\n",
       "      <td>0.39</td>\n",
       "      <td>0.70</td>\n",
       "      <td>0.0</td>\n",
       "      <td>0.00</td>\n",
       "    </tr>\n",
       "    <tr>\n",
       "      <th>director_fees</th>\n",
       "      <td>1.00</td>\n",
       "      <td>0.87</td>\n",
       "      <td>0.0</td>\n",
       "      <td>0.00</td>\n",
       "    </tr>\n",
       "    <tr>\n",
       "      <th>email_address</th>\n",
       "      <td>0.00</td>\n",
       "      <td>0.27</td>\n",
       "      <td>0.0</td>\n",
       "      <td>0.00</td>\n",
       "    </tr>\n",
       "    <tr>\n",
       "      <th>exercised_stock_options</th>\n",
       "      <td>0.33</td>\n",
       "      <td>0.30</td>\n",
       "      <td>0.0</td>\n",
       "      <td>0.00</td>\n",
       "    </tr>\n",
       "    <tr>\n",
       "      <th>expenses</th>\n",
       "      <td>0.00</td>\n",
       "      <td>0.40</td>\n",
       "      <td>0.0</td>\n",
       "      <td>0.00</td>\n",
       "    </tr>\n",
       "    <tr>\n",
       "      <th>from_messages</th>\n",
       "      <td>0.22</td>\n",
       "      <td>0.44</td>\n",
       "      <td>0.0</td>\n",
       "      <td>0.00</td>\n",
       "    </tr>\n",
       "    <tr>\n",
       "      <th>from_poi_to_this_person</th>\n",
       "      <td>0.22</td>\n",
       "      <td>0.44</td>\n",
       "      <td>0.0</td>\n",
       "      <td>0.09</td>\n",
       "    </tr>\n",
       "    <tr>\n",
       "      <th>from_this_person_to_poi</th>\n",
       "      <td>0.22</td>\n",
       "      <td>0.44</td>\n",
       "      <td>0.0</td>\n",
       "      <td>0.16</td>\n",
       "    </tr>\n",
       "    <tr>\n",
       "      <th>loan_advances</th>\n",
       "      <td>0.94</td>\n",
       "      <td>0.98</td>\n",
       "      <td>0.0</td>\n",
       "      <td>0.00</td>\n",
       "    </tr>\n",
       "    <tr>\n",
       "      <th>long_term_incentive</th>\n",
       "      <td>0.33</td>\n",
       "      <td>0.58</td>\n",
       "      <td>0.0</td>\n",
       "      <td>0.00</td>\n",
       "    </tr>\n",
       "    <tr>\n",
       "      <th>other</th>\n",
       "      <td>0.00</td>\n",
       "      <td>0.41</td>\n",
       "      <td>0.0</td>\n",
       "      <td>0.00</td>\n",
       "    </tr>\n",
       "    <tr>\n",
       "      <th>poi</th>\n",
       "      <td>0.00</td>\n",
       "      <td>0.00</td>\n",
       "      <td>0.0</td>\n",
       "      <td>1.00</td>\n",
       "    </tr>\n",
       "    <tr>\n",
       "      <th>restricted_stock</th>\n",
       "      <td>0.06</td>\n",
       "      <td>0.27</td>\n",
       "      <td>0.0</td>\n",
       "      <td>0.00</td>\n",
       "    </tr>\n",
       "    <tr>\n",
       "      <th>restricted_stock_deferred</th>\n",
       "      <td>1.00</td>\n",
       "      <td>0.86</td>\n",
       "      <td>0.0</td>\n",
       "      <td>0.00</td>\n",
       "    </tr>\n",
       "    <tr>\n",
       "      <th>salary</th>\n",
       "      <td>0.06</td>\n",
       "      <td>0.39</td>\n",
       "      <td>0.0</td>\n",
       "      <td>0.00</td>\n",
       "    </tr>\n",
       "    <tr>\n",
       "      <th>shared_receipt_with_poi</th>\n",
       "      <td>0.22</td>\n",
       "      <td>0.44</td>\n",
       "      <td>0.0</td>\n",
       "      <td>0.00</td>\n",
       "    </tr>\n",
       "    <tr>\n",
       "      <th>to_messages</th>\n",
       "      <td>0.22</td>\n",
       "      <td>0.44</td>\n",
       "      <td>0.0</td>\n",
       "      <td>0.00</td>\n",
       "    </tr>\n",
       "    <tr>\n",
       "      <th>total_payments</th>\n",
       "      <td>0.00</td>\n",
       "      <td>0.16</td>\n",
       "      <td>0.0</td>\n",
       "      <td>0.00</td>\n",
       "    </tr>\n",
       "    <tr>\n",
       "      <th>total_stock_value</th>\n",
       "      <td>0.00</td>\n",
       "      <td>0.16</td>\n",
       "      <td>0.0</td>\n",
       "      <td>0.00</td>\n",
       "    </tr>\n",
       "  </tbody>\n",
       "</table>\n",
       "</div>"
      ],
      "text/plain": [
       "                           NaN_poi  NaN_non_poi  Zero_poi  Zero_non_poi\n",
       "bonus                         0.11         0.48       0.0          0.00\n",
       "deferral_payments             0.72         0.73       0.0          0.00\n",
       "deferred_income               0.39         0.70       0.0          0.00\n",
       "director_fees                 1.00         0.87       0.0          0.00\n",
       "email_address                 0.00         0.27       0.0          0.00\n",
       "exercised_stock_options       0.33         0.30       0.0          0.00\n",
       "expenses                      0.00         0.40       0.0          0.00\n",
       "from_messages                 0.22         0.44       0.0          0.00\n",
       "from_poi_to_this_person       0.22         0.44       0.0          0.09\n",
       "from_this_person_to_poi       0.22         0.44       0.0          0.16\n",
       "loan_advances                 0.94         0.98       0.0          0.00\n",
       "long_term_incentive           0.33         0.58       0.0          0.00\n",
       "other                         0.00         0.41       0.0          0.00\n",
       "poi                           0.00         0.00       0.0          1.00\n",
       "restricted_stock              0.06         0.27       0.0          0.00\n",
       "restricted_stock_deferred     1.00         0.86       0.0          0.00\n",
       "salary                        0.06         0.39       0.0          0.00\n",
       "shared_receipt_with_poi       0.22         0.44       0.0          0.00\n",
       "to_messages                   0.22         0.44       0.0          0.00\n",
       "total_payments                0.00         0.16       0.0          0.00\n",
       "total_stock_value             0.00         0.16       0.0          0.00"
      ]
     },
     "execution_count": 8,
     "metadata": {},
     "output_type": "execute_result"
    }
   ],
   "source": [
    "r_poi = (len(fp_df) - np.sum(fp_df['poi']))/float(len(fp_df))\n",
    "print 'POI rate: ', r_poi\n",
    "\n",
    "from tqdm import tqdm\n",
    "\n",
    "def nan_count(data):\n",
    "    c = 0\n",
    "    \n",
    "    for i in data:\n",
    "        if i == 0:\n",
    "            c += 1\n",
    "            \n",
    "    return c\n",
    "\n",
    "feature_nan_count = fp_df[fp_df['poi'] != True].apply(nan_count)\n",
    "nan_df = nan_df.assign(Zero_non_poi = \n",
    "                       pd.DataFrame(np.round(\n",
    "                           feature_nan_count/len(fp_df[fp_df['poi'] != True]), 2)))\n",
    "\n",
    "nan_df"
   ]
  },
  {
   "cell_type": "markdown",
   "metadata": {},
   "source": [
    "Larger values in **NaN_poi** and **NaN_non_poi** columns mean there are more **NaNs** in each feature. As **poi** variable is discrete with only *True* and *False* values, the proportion of featurewise sum is 1 for non poi dataset. \n",
    "\n",
    "I discarded the features which are over 0.5 in both **NaN_poi** and **NaN_non_poi**, because useful information are missing from the dataset. In addition, individual email addresses were removed as it doesn't represent poi and non-poi groups.\n",
    "\n",
    "Rate of only two featuresl; **from_poi_to_this_person**, **from_this_person_to_poi** including 0 values are over 0, but the amounts are just 0.09 and 0.16, respectively. It might be assumed that converting **NaN** to 0 would not have affects on poi and non-poi classifier."
   ]
  },
  {
   "cell_type": "code",
   "execution_count": 10,
   "metadata": {},
   "outputs": [],
   "source": [
    "features = []\n",
    "for fn, fv in nan_df.iterrows():\n",
    "    if not(fv[0] >= 0.5 and fv[1] >= 0.5) and (fn != 'email_address'):\n",
    "        features.append(fn)\n",
    "        #print fn\n",
    "\n",
    "fp_df = fp_df[features]"
   ]
  },
  {
   "cell_type": "raw",
   "metadata": {},
   "source": [
    "fp_df[fp_df['poi'] == True]"
   ]
  },
  {
   "cell_type": "raw",
   "metadata": {},
   "source": [
    "fp_df[fp_df['poi'] != True]"
   ]
  },
  {
   "cell_type": "markdown",
   "metadata": {},
   "source": [
    "Convert np.nan value to 0"
   ]
  },
  {
   "cell_type": "code",
   "execution_count": 11,
   "metadata": {},
   "outputs": [],
   "source": [
    "fp_df = fp_df.applymap(lambda x: np.nan if x == 'NaN' else x)\n",
    "#fp_df.head()"
   ]
  },
  {
   "cell_type": "code",
   "execution_count": 12,
   "metadata": {},
   "outputs": [
    {
     "data": {
      "text/html": [
       "<div>\n",
       "<style scoped>\n",
       "    .dataframe tbody tr th:only-of-type {\n",
       "        vertical-align: middle;\n",
       "    }\n",
       "\n",
       "    .dataframe tbody tr th {\n",
       "        vertical-align: top;\n",
       "    }\n",
       "\n",
       "    .dataframe thead th {\n",
       "        text-align: right;\n",
       "    }\n",
       "</style>\n",
       "<table border=\"1\" class=\"dataframe\">\n",
       "  <thead>\n",
       "    <tr style=\"text-align: right;\">\n",
       "      <th></th>\n",
       "      <th>bonus</th>\n",
       "      <th>deferred_income</th>\n",
       "      <th>exercised_stock_options</th>\n",
       "      <th>expenses</th>\n",
       "      <th>from_messages</th>\n",
       "      <th>from_poi_to_this_person</th>\n",
       "      <th>from_this_person_to_poi</th>\n",
       "      <th>long_term_incentive</th>\n",
       "      <th>other</th>\n",
       "      <th>poi</th>\n",
       "      <th>restricted_stock</th>\n",
       "      <th>salary</th>\n",
       "      <th>shared_receipt_with_poi</th>\n",
       "      <th>to_messages</th>\n",
       "      <th>total_payments</th>\n",
       "      <th>total_stock_value</th>\n",
       "    </tr>\n",
       "  </thead>\n",
       "  <tbody>\n",
       "    <tr>\n",
       "      <th>ALLEN PHILLIP K</th>\n",
       "      <td>4175000.0</td>\n",
       "      <td>-3081055.0</td>\n",
       "      <td>1729541.0</td>\n",
       "      <td>13868.0</td>\n",
       "      <td>2195.0</td>\n",
       "      <td>47.0</td>\n",
       "      <td>65.0</td>\n",
       "      <td>304805.0</td>\n",
       "      <td>152.0</td>\n",
       "      <td>False</td>\n",
       "      <td>126027.0</td>\n",
       "      <td>201955.0</td>\n",
       "      <td>1407.0</td>\n",
       "      <td>2902.0</td>\n",
       "      <td>4484442.0</td>\n",
       "      <td>1729541.0</td>\n",
       "    </tr>\n",
       "    <tr>\n",
       "      <th>BADUM JAMES P</th>\n",
       "      <td>0.0</td>\n",
       "      <td>0.0</td>\n",
       "      <td>257817.0</td>\n",
       "      <td>3486.0</td>\n",
       "      <td>0.0</td>\n",
       "      <td>0.0</td>\n",
       "      <td>0.0</td>\n",
       "      <td>0.0</td>\n",
       "      <td>0.0</td>\n",
       "      <td>False</td>\n",
       "      <td>0.0</td>\n",
       "      <td>0.0</td>\n",
       "      <td>0.0</td>\n",
       "      <td>0.0</td>\n",
       "      <td>182466.0</td>\n",
       "      <td>257817.0</td>\n",
       "    </tr>\n",
       "    <tr>\n",
       "      <th>BANNANTINE JAMES M</th>\n",
       "      <td>0.0</td>\n",
       "      <td>-5104.0</td>\n",
       "      <td>4046157.0</td>\n",
       "      <td>56301.0</td>\n",
       "      <td>29.0</td>\n",
       "      <td>39.0</td>\n",
       "      <td>0.0</td>\n",
       "      <td>0.0</td>\n",
       "      <td>864523.0</td>\n",
       "      <td>False</td>\n",
       "      <td>1757552.0</td>\n",
       "      <td>477.0</td>\n",
       "      <td>465.0</td>\n",
       "      <td>566.0</td>\n",
       "      <td>916197.0</td>\n",
       "      <td>5243487.0</td>\n",
       "    </tr>\n",
       "    <tr>\n",
       "      <th>BAXTER JOHN C</th>\n",
       "      <td>1200000.0</td>\n",
       "      <td>-1386055.0</td>\n",
       "      <td>6680544.0</td>\n",
       "      <td>11200.0</td>\n",
       "      <td>0.0</td>\n",
       "      <td>0.0</td>\n",
       "      <td>0.0</td>\n",
       "      <td>1586055.0</td>\n",
       "      <td>2660303.0</td>\n",
       "      <td>False</td>\n",
       "      <td>3942714.0</td>\n",
       "      <td>267102.0</td>\n",
       "      <td>0.0</td>\n",
       "      <td>0.0</td>\n",
       "      <td>5634343.0</td>\n",
       "      <td>10623258.0</td>\n",
       "    </tr>\n",
       "    <tr>\n",
       "      <th>BAY FRANKLIN R</th>\n",
       "      <td>400000.0</td>\n",
       "      <td>-201641.0</td>\n",
       "      <td>0.0</td>\n",
       "      <td>129142.0</td>\n",
       "      <td>0.0</td>\n",
       "      <td>0.0</td>\n",
       "      <td>0.0</td>\n",
       "      <td>0.0</td>\n",
       "      <td>69.0</td>\n",
       "      <td>False</td>\n",
       "      <td>145796.0</td>\n",
       "      <td>239671.0</td>\n",
       "      <td>0.0</td>\n",
       "      <td>0.0</td>\n",
       "      <td>827696.0</td>\n",
       "      <td>63014.0</td>\n",
       "    </tr>\n",
       "  </tbody>\n",
       "</table>\n",
       "</div>"
      ],
      "text/plain": [
       "                        bonus  deferred_income  exercised_stock_options  \\\n",
       "ALLEN PHILLIP K     4175000.0       -3081055.0                1729541.0   \n",
       "BADUM JAMES P             0.0              0.0                 257817.0   \n",
       "BANNANTINE JAMES M        0.0          -5104.0                4046157.0   \n",
       "BAXTER JOHN C       1200000.0       -1386055.0                6680544.0   \n",
       "BAY FRANKLIN R       400000.0        -201641.0                      0.0   \n",
       "\n",
       "                    expenses  from_messages  from_poi_to_this_person  \\\n",
       "ALLEN PHILLIP K      13868.0         2195.0                     47.0   \n",
       "BADUM JAMES P         3486.0            0.0                      0.0   \n",
       "BANNANTINE JAMES M   56301.0           29.0                     39.0   \n",
       "BAXTER JOHN C        11200.0            0.0                      0.0   \n",
       "BAY FRANKLIN R      129142.0            0.0                      0.0   \n",
       "\n",
       "                    from_this_person_to_poi  long_term_incentive      other  \\\n",
       "ALLEN PHILLIP K                        65.0             304805.0      152.0   \n",
       "BADUM JAMES P                           0.0                  0.0        0.0   \n",
       "BANNANTINE JAMES M                      0.0                  0.0   864523.0   \n",
       "BAXTER JOHN C                           0.0            1586055.0  2660303.0   \n",
       "BAY FRANKLIN R                          0.0                  0.0       69.0   \n",
       "\n",
       "                      poi  restricted_stock    salary  \\\n",
       "ALLEN PHILLIP K     False          126027.0  201955.0   \n",
       "BADUM JAMES P       False               0.0       0.0   \n",
       "BANNANTINE JAMES M  False         1757552.0     477.0   \n",
       "BAXTER JOHN C       False         3942714.0  267102.0   \n",
       "BAY FRANKLIN R      False          145796.0  239671.0   \n",
       "\n",
       "                    shared_receipt_with_poi  to_messages  total_payments  \\\n",
       "ALLEN PHILLIP K                      1407.0       2902.0       4484442.0   \n",
       "BADUM JAMES P                           0.0          0.0        182466.0   \n",
       "BANNANTINE JAMES M                    465.0        566.0        916197.0   \n",
       "BAXTER JOHN C                           0.0          0.0       5634343.0   \n",
       "BAY FRANKLIN R                          0.0          0.0        827696.0   \n",
       "\n",
       "                    total_stock_value  \n",
       "ALLEN PHILLIP K             1729541.0  \n",
       "BADUM JAMES P                257817.0  \n",
       "BANNANTINE JAMES M          5243487.0  \n",
       "BAXTER JOHN C              10623258.0  \n",
       "BAY FRANKLIN R                63014.0  "
      ]
     },
     "execution_count": 12,
     "metadata": {},
     "output_type": "execute_result"
    }
   ],
   "source": [
    "fp_df.fillna(0, inplace=True)\n",
    "fp_df.isnull().values.any()\n",
    "fp_df.head()"
   ]
  },
  {
   "cell_type": "raw",
   "metadata": {},
   "source": [
    "features = useful_fp_df.keys()\n",
    "features = features.drop('email_address')\n",
    "values = fp_df.values\n",
    "\n",
    "#values\n",
    "#features"
   ]
  },
  {
   "cell_type": "markdown",
   "metadata": {},
   "source": [
    "### Remove Outlier"
   ]
  },
  {
   "cell_type": "code",
   "execution_count": 15,
   "metadata": {},
   "outputs": [
    {
     "data": {
      "text/plain": [
       "16"
      ]
     },
     "execution_count": 15,
     "metadata": {},
     "output_type": "execute_result"
    }
   ],
   "source": [
    "len(fp_df.keys())"
   ]
  },
  {
   "cell_type": "code",
   "execution_count": 18,
   "metadata": {},
   "outputs": [
    {
     "data": {
      "image/png": "[encoded data removed]",
      "text/plain": [
       "<matplotlib.figure.Figure at 0x7fb56bc48890>"
      ]
     },
     "metadata": {},
     "output_type": "display_data"
    }
   ],
   "source": [
    "import matplotlib.pyplot as plt\n",
    "%matplotlib inline\n",
    "\n",
    "fig, ax = plt.subplots(4, 4, figsize = (15, 10))\n",
    "\n",
    "for i in xrange(4):\n",
    "    for j in xrange(4):\n",
    "        ax[i, j].hist(fp_df[features[i*4+j]])\n",
    "        #ax[i, j].plot(x, y_25th, x, y_75th)\n",
    "        ax[i, j].set_title(features[i*4+j])"
   ]
  },
  {
   "cell_type": "code",
   "execution_count": 19,
   "metadata": {},
   "outputs": [
    {
     "data": {
      "image/png": "[encoded data removed]",
      "text/plain": [
       "<matplotlib.figure.Figure at 0x7fb56b37ec50>"
      ]
     },
     "metadata": {},
     "output_type": "display_data"
    }
   ],
   "source": [
    "fig, ax = plt.subplots(4, 4, figsize = (15, 20))\n",
    "\n",
    "for i in xrange(4):\n",
    "    for j in xrange(4):\n",
    "    \n",
    "        x = np.linspace(0, 2, len(fp_df[features[i*4+j]]))\n",
    "        ax[i, j].scatter(x, fp_df[features[i*4+j]], s = 3)"
   ]
  },
  {
   "cell_type": "code",
   "execution_count": 20,
   "metadata": {},
   "outputs": [
    {
     "data": {
      "image/png": "[encoded data removed]",
      "text/plain": [
       "<matplotlib.figure.Figure at 0x7fb566b5ddd0>"
      ]
     },
     "metadata": {},
     "output_type": "display_data"
    }
   ],
   "source": [
    "fig, ax = plt.subplots(4, 4, figsize = (15, 20))\n",
    "\n",
    "for i in xrange(4):\n",
    "    for j in xrange(4):\n",
    "        \n",
    "        #print i*5+j\n",
    "        #print features[i*5+j]\n",
    "\n",
    "        per_25th = np.percentile(fp_df[features[i*4+j]], 25)\n",
    "        per_75th = np.percentile(fp_df[features[i*4+j]], 75)\n",
    "\n",
    "        x = np.linspace(0, 2, 100)\n",
    "        y_25th = np.ones(100) * per_25th\n",
    "        y_75th = np.ones(100) * per_75th\n",
    "        \n",
    "        ax[i, j].boxplot(fp_df[features[i*4+j]])\n",
    "        ax[i, j].plot(x, y_25th, x, y_75th)\n",
    "        ax[i, j].set_title(features[i*4+j])"
   ]
  },
  {
   "cell_type": "code",
   "execution_count": 21,
   "metadata": {},
   "outputs": [
    {
     "data": {
      "text/plain": [
       "['bonus',\n",
       " 'deferred_income',\n",
       " 'exercised_stock_options',\n",
       " 'expenses',\n",
       " 'from_messages',\n",
       " 'from_poi_to_this_person',\n",
       " 'from_this_person_to_poi',\n",
       " 'long_term_incentive',\n",
       " 'other',\n",
       " 'poi',\n",
       " 'restricted_stock',\n",
       " 'salary',\n",
       " 'shared_receipt_with_poi',\n",
       " 'to_messages',\n",
       " 'total_payments',\n",
       " 'total_stock_value']"
      ]
     },
     "execution_count": 21,
     "metadata": {},
     "output_type": "execute_result"
    }
   ],
   "source": [
    "features"
   ]
  },
  {
   "cell_type": "code",
   "execution_count": 26,
   "metadata": {},
   "outputs": [
    {
     "data": {
      "text/plain": [
       "array([ 1200000.,   400000.,   700000.,   250000.,  1000000.,   850000.,\n",
       "        1350000.,   500000.,   750000.,   900000.,  1250000.,   300000.,\n",
       "        1000000.,  1200000.,   800000.,   325000.,   600000.,   800000.,\n",
       "         425000.,   600000.,  1000000.,   800000.,   750000.,   350000.,\n",
       "        1300000.,   350000.,  2000000.,   509870.,   850000.,   600000.,\n",
       "         750000.,  1150000.,  1500000.,   700000.,  1700000.,   250000.,\n",
       "         400000.,  1000000.,   700000.,   800000.,  1000000.,   900000.,\n",
       "        1100000.,   600000.,   325000.,  1100000.,   400000.,   750000.,\n",
       "        1000000.,   300000.,   400000.,  1750000.,   700000.,  2000000.,\n",
       "         650000.,   600000.,  1500000.,   500000.,   700000.,   600000.,\n",
       "         300000.,   788750.,   850000.,   325000.,   450000.])"
      ]
     },
     "execution_count": 26,
     "metadata": {},
     "output_type": "execute_result"
    }
   ],
   "source": [
    "values"
   ]
  },
  {
   "cell_type": "code",
   "execution_count": 23,
   "metadata": {},
   "outputs": [
    {
     "name": "stdout",
     "output_type": "stream",
     "text": [
      "3000000.0\n"
     ]
    },
    {
     "data": {
      "text/plain": [
       "<matplotlib.collections.PathCollection at 0x7fb56779b250>"
      ]
     },
     "execution_count": 23,
     "metadata": {},
     "output_type": "execute_result"
    },
    {
     "data": {
      "image/png": "[encoded data removed]",
      "text/plain": [
       "<matplotlib.figure.Figure at 0x7fb567a95a50>"
      ]
     },
     "metadata": {},
     "output_type": "display_data"
    }
   ],
   "source": [
    "values = fp_df['bonus'].values\n",
    "#u = np.percentile(values, 25)\n",
    "d = np.percentile(values, 95)\n",
    "\n",
    "x = np.linspace(0, 2, len(values))\n",
    "\n",
    "#print u, d\n",
    "print d\n",
    "#plt.scatter(x, values, s = 3)\n",
    "\n",
    "values = values[values < d]\n",
    "x = np.linspace(0, 2, len(values))\n",
    "plt.scatter(x, values, s = 3)"
   ]
  },
  {
   "cell_type": "code",
   "execution_count": 25,
   "metadata": {},
   "outputs": [
    {
     "data": {
      "image/png": "[encoded data removed]",
      "text/plain": [
       "<matplotlib.figure.Figure at 0x7fb567302d50>"
      ]
     },
     "metadata": {},
     "output_type": "display_data"
    }
   ],
   "source": [
    "fig, ax = plt.subplots(4, 4, figsize = (15, 20))\n",
    "\n",
    "for i in xrange(4):\n",
    "    for j in xrange(4):\n",
    "        per_25th = np.percentile(fp_df[features[i*4+j]], 25)\n",
    "        per_75th = np.percentile(fp_df[features[i*4+j]], 75)\n",
    "        \n",
    "        values = fp_df['bonus'].values\n",
    "        values = values[values > per_25th]\n",
    "        values = values[values < per_75th]\n",
    "        '''\n",
    "        x = np.linspace(0, 2, 100)\n",
    "        y_25th = np.ones(100) * per_25th\n",
    "        y_75th = np.ones(100) * per_75th\n",
    "        '''\n",
    "        #ax[i, j].boxplot(values)\n",
    "        ax[i, j].hist(values)\n",
    "        #ax[i, j].plot(x, y_25th, x, y_75th)\n",
    "        #ax[i, j].set_title(features[i*5+j])"
   ]
  },
  {
   "cell_type": "raw",
   "metadata": {},
   "source": [
    "per_25th = np.percentile(fp_df['bonus'], 25)\n",
    "per_75th = np.percentile(fp_df['bonus'], 75)"
   ]
  },
  {
   "cell_type": "raw",
   "metadata": {},
   "source": [
    "x = np.linspace(0, 2, 100)\n",
    "y_25th = np.ones(100) * per_25th\n",
    "y_75th = np.ones(100) * per_75th"
   ]
  },
  {
   "cell_type": "raw",
   "metadata": {},
   "source": [
    "import matplotlib.pyplot as plt\n",
    "%matplotlib inline\n",
    "\n",
    "plt.boxplot(fp_df['bonus'])\n",
    "plt.plot(x, y_25th, x, y_75th)"
   ]
  },
  {
   "cell_type": "raw",
   "metadata": {},
   "source": [
    "fp_df['bonus'].quantile(0.5)"
   ]
  },
  {
   "cell_type": "raw",
   "metadata": {},
   "source": [
    "print np.max(fp_df['bonus'])\n",
    "test = fp_df[fp_df['bonus'] < fp_df['bonus'].quantile(0.7)]"
   ]
  },
  {
   "cell_type": "raw",
   "metadata": {},
   "source": [
    "plt.boxplot(test['bonus'])"
   ]
  },
  {
   "cell_type": "markdown",
   "metadata": {},
   "source": []
  },
  {
   "cell_type": "markdown",
   "metadata": {},
   "source": []
  },
  {
   "cell_type": "markdown",
   "metadata": {},
   "source": []
  },
  {
   "cell_type": "markdown",
   "metadata": {},
   "source": []
  },
  {
   "cell_type": "markdown",
   "metadata": {},
   "source": []
  },
  {
   "cell_type": "markdown",
   "metadata": {},
   "source": []
  },
  {
   "cell_type": "markdown",
   "metadata": {},
   "source": [
    "# Scaling"
   ]
  },
  {
   "cell_type": "code",
   "execution_count": null,
   "metadata": {},
   "outputs": [],
   "source": [
    "from sklearn.preprocessing import MinMaxScaler\n",
    "import numpy as np\n",
    "\n",
    "sclr = MinMaxScaler(feature_range=(0, 1))"
   ]
  },
  {
   "cell_type": "markdown",
   "metadata": {},
   "source": [
    "Scaling to have range from 0 to 1, expect email_address variable"
   ]
  },
  {
   "cell_type": "code",
   "execution_count": null,
   "metadata": {},
   "outputs": [],
   "source": [
    "scaled_value = sclr.fit_transform(fp_df[features.drop('email_address')])\n",
    "#rescaled_value = sclr.fit_transform(fp_df[features.drop('email_address')])"
   ]
  },
  {
   "cell_type": "code",
   "execution_count": null,
   "metadata": {},
   "outputs": [],
   "source": [
    "scaled_value"
   ]
  },
  {
   "cell_type": "markdown",
   "metadata": {},
   "source": [
    "# References\n",
    "\n",
    "http://scikit-learn.org/stable/auto_examples/classification/plot_classifier_comparison.html"
   ]
  }
 ],
 "metadata": {
  "kernelspec": {
   "display_name": "Python 2",
   "language": "python",
   "name": "python2"
  },
  "language_info": {
   "codemirror_mode": {
    "name": "ipython",
    "version": 2
   },
   "file_extension": ".py",
   "mimetype": "text/x-python",
   "name": "python",
   "nbconvert_exporter": "python",
   "pygments_lexer": "ipython2",
   "version": "2.7.12"
  }
 },
 "nbformat": 4,
 "nbformat_minor": 2
}
