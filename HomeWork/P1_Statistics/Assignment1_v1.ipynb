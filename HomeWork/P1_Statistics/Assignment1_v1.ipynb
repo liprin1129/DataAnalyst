{
 "cells": [
  {
   "cell_type": "markdown",
   "metadata": {
    "slideshow": {
     "slide_type": "slide"
    }
   },
   "source": [
    "### 1. What is our independent variable? What is our dependent variable?\n",
    "    \n",
    "__Independent variable__ (x-axis) would be a tendency of time of how long does it take for participant to finish the task.\n",
    "\n",
    "__Dependent variable__ (y-axis) would be a number of people corresponding to the time they took.\n",
    "\n",
    "__Feedback:__ \n",
    "* Please note that an independent variable, sometimes called an experimental or predictor variable, is a variable that is being manipulated in an experiment in order to observe the effect on a dependent variable, sometimes called an outcome variable.\n",
    "* We are taking control of the word color congruency condition and observe the time taken for each individual to name the ink color.\n",
    "* Thus the independent and dependent variables are specified not accurate enough.\n",
    "\n",
    "### 2. What is an appropriate set of hypotheses for this task? What kind of statistical test do you expect to perform? Justify your choices.\n",
    "\n",
    "In human brain, the information process for a reading alphabets will have a priority than that for a colour information. In other words, to process a colour information in human brain will have more steps than reading alphabets, then people will spend more time to say out \"the colours of the inks in which the word is printed\" on incongruent words than that on congruent words.\n",
    "\n",
    "Therefore, statistical test will be as below.\n",
    "\n",
    "__Null Hypothesis__ $(H_0):$ Time to finish reading congruent words $=$ Time to finish reading incongruent words\n",
    "\n",
    "__Alternative Hypothesis__ $(H_a):$ Time to finish reading congruent words $<$ Time to finish reading incongruent words\n",
    "\n",
    "The two samples have no effect each other, in other words, they are independent samples. For this, negative directional one-tailed t-test having t-critical value $1.711$ at $\\alpha=0.05$ will be performed following central limit theorem, because we do not know the true mean and standard deviation of population; however the sampled mean of congruent words dataset is considered as a population mean.\n",
    "\n",
    "__Feedback 2a:__ \n",
    "* Please kindly note that as per requirement, we would like to see the null and alternative hypotheses are expressed in mathematical statement - this has not been done in your report yet.\n",
    "\n",
    "Please provide a symbolic statement as well and explain in detail the meaning of each used symbol, the following links are really useful to address both the natural language and the symbolic statements:\n",
    "http://support.minitab.com/en-us/minitab/17/topic-library/basic-statistics-and-graphs/hypothesis-tests/basics/null-and-alternative-hypotheses/\n",
    "http://support.minitab.com/en-us/minitab/17/topic-library/basic-statistics-and-graphs/hypothesis-tests/basics/what-is-a-hypothesis-test/\n",
    "\n",
    "* The idea of hypothesis testing and statistical inference is that we have limited data, samples(generally denoted by X), and from that limited data, we are trying to infer something about the population (generally denoted by U) we don't know about.\n",
    "* With our test we are trying to assess whether the sample means are different because the two populations and population means are different or just by chance.\n",
    "* Therefore our hypothesis should be concerned with μC and μI, respectively the congruent and incongruent population response time means.\n",
    "\n",
    "__Feadback 2b:__\n",
    "Which test is applicable? There are potentially several tests applicable when comparing means (t-test and z-test are for sure candidates) the choice should depend on the relevant assumptions.\n",
    "* We have less than 30 samples.\n",
    "* We don’t know the population's standard deviation.\n",
    "* We assume that the distributions are Gaussian.\n",
    "http://www.statisticshowto.com/when-to-use-a-t-score-vs-z-score/\n",
    "* Another important aspect of the statistical test - is to specify whether the test is a dependent or an independent test based on the way the experiment is being conducted.\n",
    "* As per requirement, please make sure the relevant assumptions are clearly made in your report.\n",
    "* Please look at here for a more detailed assumptions for conducting t-test.\n",
    "\n",
    "### 3. Report some descriptive statistics regarding this dataset. Include at least one measure of central tendency and at least one measure of variability.\n",
    "\n",
    "There are 24 sample data in each test. If $\\mathbf{x}$ is a congruent dataset and $\\mathbf{y}$ is incongruent dataset, the mean of the congruent dataset, $\\bar{\\mathbf{x}}$, is 14.04 with standard deviation for the sample, $s_\\mathbf{x}=\\frac{\\sum \\mathbf{x}}{n_x-1}=3.56$, and $\\bar{\\mathbf{y}}=22.02$ with standard deviation for the sample, $s_\\mathbf{y}=\\frac{\\sum \\mathbf{y}}{n_y-1}=4.80$.\n",
    "\n",
    "Below is a table of Mean, Standard Deviation, and Median for both sample dataset.\n",
    "\n",
    "|       |Congruent|Incongruent|Incongruent - Congruent|\n",
    "|-------|:-------:|:-------:|:-------:|\n",
    "|Mean  |14.04    |22.02      |8.0|\n",
    "|standard deviation|3.56|4.80|in quetion 5|\n",
    "|Median|14.36|21.02|7.7|"
   ]
  },
  {
   "cell_type": "markdown",
   "metadata": {
    "slideshow": {
     "slide_type": "slide"
    }
   },
   "source": [
    "### 4. Provide one or two visualizations that show the distribution of the sample data. Write one or two sentences noting what you observe about the plot or plots.\n",
    "\n",
    "People tend to take more time to finish the task on the incongruent words than that on the congruent words. In addition, it became wider for the stadard deviation of incongruent tast than that of congruent task.\n",
    "Though the above table tells some descriptive statistics, it is hard to identify wether the hypothesis is significant or not, as well as which kind of central tendency has more appropriate descriptive statistics for each dataset.\n",
    "\n",
    "Therefore, it is better to plot a histogram for each dataset so as to find the most descriptive one.\n",
    "<img src=\"histogram_normal.png\" width=\"550px\">\n",
    "<img src=\"histogram_skewed.png\" width=\"550px\">"
   ]
  },
  {
   "cell_type": "markdown",
   "metadata": {},
   "source": [
    "The histogram of the congruent words dataset has 7 bins with 2.3 bin size, and it looks like normal distribution. Theoretically, the mean, median, and mode of its sample dataset should be the same value. \n",
    "\n",
    "However, though incongruent words dataset has the saime bin size, 2.3, as congruent histogram with 9 bins, it seems a positive skewed distribution with one outlier bin and it has an influence the incongruent mean value. The green line (mean value) is slightly on right to the red line (median value). Therefore, IQR must be checked by boxplot to be convinced with the most appropriate kind of central tendency."
   ]
  },
  {
   "cell_type": "markdown",
   "metadata": {},
   "source": [
    "<img src=\"boxplot.png\" width=\"520px\">"
   ]
  },
  {
   "cell_type": "markdown",
   "metadata": {},
   "source": [
    "Then, it is obvious that the incongruent words dataset has a positive skewed distribution with the 1st quartile (18.72), 2nd quartile (24.05), Min (15.69), Max (26.28), and two outliers, 35.255 and 34.288 respectively."
   ]
  },
  {
   "cell_type": "markdown",
   "metadata": {},
   "source": [
    "### 5. Now, perform the statistical test and report your results. What is your confidence level and your critical statistic value? Do you reject the null hypothesis or fail to reject it? Come to a conclusion in terms of the experiment task. Did the results match up with your expectations?\n",
    "\n",
    "- For this, the sampled mean of congruent words dataset is considered as a population mean ($\\mu=14.04$) with standard deviation ($s=3.56$). \n",
    "- Degree of freedom is $23$ if $n=24$, and $t_{critical}$ value is 1.711 if $\\alpha=0.05$ of one-tailed in plus direction. Standard error of the mean is ($SEM=\\frac{s}{\\sqrt{n}}=\\frac{3.56}{\\sqrt{24}})$ is $0.72$, which means the sample means to differ from the true population mean by $0.72$.\n",
    "- Mean difference: $\\bar{\\mathbf{x}}-\\mu_{congruent}=7.98$.\n",
    "- t statistics: $t_{statistics}=\\frac{\\bar{\\mathbf{x}}-\\mu_{congruent}}{SEM}=\\frac{7.98}{0.72}=11.08$.\n",
    "- $t_{statistics}$ falls in the critical region.\n",
    "- The result is statistically significant.\n",
    "\n",
    "<img src=\"result.png\" width=\"520px\">\n",
    "\n",
    "Therefore, the result says 'reject hypothesis', and which match up with the first assumption, 'the information process for a reading alphabets will have a priority than that for a colour information'.\n",
    "\n",
    "__Feedback:__\n",
    "Please kindly review the test type should be used in question 2b, in the meanwhile, please look at the following steps in conducting a paired t-test:\n",
    "\n",
    "<img src=\"feedback1.png\" width=\"800px\">"
   ]
  }
 ],
 "metadata": {
  "kernelspec": {
   "display_name": "Python 3",
   "language": "python",
   "name": "python3"
  },
  "language_info": {
   "codemirror_mode": {
    "name": "ipython",
    "version": 3
   },
   "file_extension": ".py",
   "mimetype": "text/x-python",
   "name": "python",
   "nbconvert_exporter": "python",
   "pygments_lexer": "ipython3",
   "version": "3.5.2"
  }
 },
 "nbformat": 4,
 "nbformat_minor": 2
}
